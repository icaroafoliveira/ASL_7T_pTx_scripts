{
 "cells": [
  {
   "cell_type": "code",
   "execution_count": 10,
   "metadata": {},
   "outputs": [
    {
     "data": {
      "text/plain": [
       "cnr_calc (generic function with 1 method)"
      ]
     },
     "metadata": {},
     "output_type": "display_data"
    }
   ],
   "source": [
    "using MriResearchTools\n",
    "using Statistics\n",
    "using DataFrames\n",
    "using CSV\n",
    "\n",
    "# March 2024 for the rebuttal\n",
    "using StatsPlots\n",
    "\n",
    "include(\"/Users/icarooliveira/Documents/ASL_7T/all_7t_ASL_functions.jl\")"
   ]
  },
  {
   "cell_type": "code",
   "execution_count": 29,
   "metadata": {},
   "outputs": [],
   "source": [
    "## create folder / foldername / filenames\n",
    "# main folder\n",
    "foldername = \"/Users/icarooliveira/Documents/ASL_7T/analysis/\";\n",
    "\n",
    "# filenames\n",
    "\n",
    "## ====== Defining the filenames\n",
    "\n",
    "perf_classic_fname = Dict();\n",
    "perf_multix_fname = Dict();\n",
    "\n",
    "c1_fname = Dict();\n",
    "c2_fname = Dict();\n",
    "\n",
    "for j =1:7\n",
    "    # Classic\n",
    "    perf_classic_fname[j,1] = (string(\"rsub0\",j ,\"_Classic_FAIR_6cm.nii\"))\n",
    "    perf_classic_fname[j,2] = (string(\"rsub0\",j ,\"_Classic_FAIR_9cm.nii\"))\n",
    "    perf_classic_fname[j,3] = (string(\"rsub0\",j ,\"_Classic_FAIR_12cm.nii\"))\n",
    "    \n",
    "    # Multix\n",
    "    perf_multix_fname[j,1] = (string(\"rsub0\",j ,\"_Multix_FAIR_6cm.nii\"))\n",
    "    perf_multix_fname[j,2] = (string(\"rsub0\",j ,\"_Multix_FAIR_9cm.nii\"))\n",
    "    perf_multix_fname[j,3] = (string(\"rsub0\",j ,\"_Multix_FAIR_12cm.nii\"))\n",
    "\n",
    "    # GM mask\n",
    "    c1_fname[j] = string(\"Left_GM_mask.nii.gz\")\n",
    "    c2_fname[j] = string(\"Right_GM_mask.nii.gz\")\n",
    "    \n",
    "end\n",
    "\n",
    "## ====== Defining the folders\n",
    "\n",
    "perf_Dir = Dict();\n",
    "anat_Dir = Dict();\n",
    "\n",
    "for j =1:7\n",
    "    perf_Dir[j] = (string(\"s0\",j ,\"/perf/\"))\n",
    "    anat_Dir[j] = (string(\"s0\",j, \"/anat/\"))\n",
    "end\n"
   ]
  },
  {
   "cell_type": "code",
   "execution_count": 18,
   "metadata": {},
   "outputs": [],
   "source": [
    "### Create Mean Perfusion\n",
    "for kk = 1:7\n",
    "    for k = 1:3\n",
    "        savePerf(foldername, perf_Dir[kk], perf_classic_fname[kk,k])\n",
    "        savePerf(foldername, perf_Dir[kk], perf_multix_fname[kk,k])\n",
    "    end\n",
    "end\n",
    "\n"
   ]
  },
  {
   "cell_type": "code",
   "execution_count": 20,
   "metadata": {},
   "outputs": [],
   "source": [
    "### Creating ASL perf seriesASL\n",
    "for kk = 1:7\n",
    "    for k = 1:3\n",
    "        seriesASL(foldername, perf_Dir[kk], perf_classic_fname[kk,k])\n",
    "        seriesASL(foldername, perf_Dir[kk], perf_multix_fname[kk,k])\n",
    "    end\n",
    "end"
   ]
  },
  {
   "cell_type": "code",
   "execution_count": 39,
   "metadata": {},
   "outputs": [],
   "source": [
    "## NEW FILENAMES\n",
    "\n",
    "perf_classic_dyn_fname = Dict();\n",
    "perf_multix_dyn_fname = Dict();\n",
    "\n",
    "for j =1:7\n",
    "    # Classic\n",
    "    perf_classic_dyn_fname[j,1] = (string(\"rsub0\",j ,\"_Classic_reg_FAIR_6cm_dyn_perf.nii.gz\"))\n",
    "    perf_classic_dyn_fname[j,2] = (string(\"rsub0\",j ,\"_Classic_reg_FAIR_9cm_dyn_perf.nii.gz\"))\n",
    "    perf_classic_dyn_fname[j,3] = (string(\"rsub0\",j ,\"_Classic_reg_FAIR_12cm_dyn_perf.nii.gz\"))\n",
    "    \n",
    "    # Multix\n",
    "    perf_multix_dyn_fname[j,1] = (string(\"rsub0\",j ,\"_Multix_FAIR_6cm_dyn_perf.nii\"))\n",
    "    perf_multix_dyn_fname[j,2] = (string(\"rsub0\",j ,\"_Multix_FAIR_9cm_dyn_perf.nii\"))\n",
    "    perf_multix_dyn_fname[j,3] = (string(\"rsub0\",j ,\"_Multix_FAIR_12cm_dyn_perf.nii\"))\n",
    "    \n",
    "end\n"
   ]
  },
  {
   "cell_type": "code",
   "execution_count": 161,
   "metadata": {},
   "outputs": [],
   "source": [
    "### Create CoV Maps\n",
    "cov_values_classic = Dict();\n",
    "cov_values_multix = Dict();\n",
    "\n",
    "for kk = 1:7\n",
    "    for k = 1:3\n",
    "        cov_values_classic[kk, k] = cov(foldername, perf_Dir[kk], perf_classic_dyn_fname[kk,k], anat_Dir[kk], c1_fname[kk], c2_fname[kk])\n",
    "        cov_values_multix[kk, k] = cov(foldername, perf_Dir[kk], perf_multix_dyn_fname[kk,k], anat_Dir[kk], c1_fname[kk], c2_fname[kk])\n",
    "    end\n",
    "end\n",
    "\n",
    "# C1 => LEFT\n",
    "# C2 => RIGHT"
   ]
  },
  {
   "cell_type": "code",
   "execution_count": 162,
   "metadata": {},
   "outputs": [],
   "source": [
    "all_classic = zeros(42);\n",
    "all_multix = zeros(42);\n",
    "\n",
    "x = 1\n",
    "for i=1:7\n",
    "    for j=1:3\n",
    "        for l=1:2\n",
    "            all_classic[x] = cov_values_classic[i,j][l]\n",
    "            all_multix[x] = cov_values_multix[i,j][l]\n",
    "\n",
    "            x = x+1\n",
    "        end\n",
    "    end\n",
    "end"
   ]
  },
  {
   "cell_type": "code",
   "execution_count": 163,
   "metadata": {},
   "outputs": [
    {
     "data": {
      "text/plain": [
       "\"/Users/icarooliveira/Documents/ASL_7T/alldataCoV.csv\""
      ]
     },
     "metadata": {},
     "output_type": "display_data"
    }
   ],
   "source": [
    "# DataFrames\n",
    "\n",
    "# Classic \n",
    "classic_data = DataFrame();\n",
    "classic_data.cov = all_classic;\n",
    "classic_data.roi = repeat([\"GM_L\",\"GM_R\"], 21);\n",
    "classic_data.sub = repeat([\"s01\", \"s02\", \"s03\", \"s04\", \"s05\", \"s06\", \"s07\"], inner=6);\n",
    "classic_data.thick = repeat([6, 9, 12], inner=2, outer =7);\n",
    "classic_data.type = repeat([\"2Tx\"], 42);\n",
    "\n",
    "\n",
    "# Multix\n",
    "multix_data = DataFrame();\n",
    "multix_data.cov = all_multix;\n",
    "multix_data.roi = repeat([\"GM_L\",\"GM_R\"], 21);\n",
    "multix_data.sub = repeat([\"s01\", \"s02\", \"s03\", \"s04\", \"s05\", \"s06\", \"s07\"], inner=6);\n",
    "multix_data.thick = repeat([6, 9, 12], inner=2, outer =7);\n",
    "multix_data.type = repeat([\"pTx\"],42);\n",
    "\n",
    "# Combining (merging) both datasets\n",
    "all_data = vcat(classic_data, multix_data)\n",
    "\n",
    "# saving CSV data\n",
    "data_6cm = filter(:thick => n->n == (6), all_data)\n",
    "\n",
    "CSV.write(joinpath(pwd(), \"dataCoV.csv\"), data_6cm)\n",
    "CSV.write(joinpath(pwd(), \"alldataCoV.csv\"), all_data)\n",
    "\n"
   ]
  },
  {
   "cell_type": "code",
   "execution_count": 164,
   "metadata": {},
   "outputs": [
    {
     "data": {
      "text/plain": [
       "StatsModels.TableRegressionModel{LinearModel{GLM.LmResp{Vector{Float64}}, GLM.DensePredChol{Float64, LinearAlgebra.CholeskyPivoted{Float64, Matrix{Float64}}}}, Matrix{Float64}}\n",
       "\n",
       "cov ~ 1 + thick\n",
       "\n",
       "Coefficients:\n",
       "──────────────────────────────────────────────────────────────────────────\n",
       "                 Coef.  Std. Error     t  Pr(>|t|)    Lower 95%  Upper 95%\n",
       "──────────────────────────────────────────────────────────────────────────\n",
       "(Intercept)  0.347022      0.2718   1.28    0.2171  -0.221861     0.915906\n",
       "thick        0.0526326     0.02914  1.81    0.0868  -0.00835814   0.113623\n",
       "──────────────────────────────────────────────────────────────────────────"
      ]
     },
     "metadata": {},
     "output_type": "display_data"
    }
   ],
   "source": [
    "## analysis\n",
    "\n",
    "using GLM\n",
    "classic_L_data = filter(:roi => n->n == (\"GM_L\"), classic_data)\n",
    "multix_L_data = filter(:roi => n->n == (\"GM_L\"), multix_data)\n",
    "\n",
    "classic_R_data = filter(:roi => n->n == (\"GM_R\"), classic_data)\n",
    "multix_R_data = filter(:roi => n->n == (\"GM_R\"), multix_data)\n",
    "\n",
    "fm = @formula(cov ~ thick)\n",
    "linear_L_classic = lm(fm, classic_L_data)\n"
   ]
  },
  {
   "cell_type": "code",
   "execution_count": 165,
   "metadata": {},
   "outputs": [
    {
     "data": {
      "text/plain": [
       "StatsModels.TableRegressionModel{LinearModel{GLM.LmResp{Vector{Float64}}, GLM.DensePredChol{Float64, LinearAlgebra.CholeskyPivoted{Float64, Matrix{Float64}}}}, Matrix{Float64}}\n",
       "\n",
       "cov ~ 1 + thick\n",
       "\n",
       "Coefficients:\n",
       "──────────────────────────────────────────────────────────────────────────\n",
       "                 Coef.  Std. Error     t  Pr(>|t|)    Lower 95%  Upper 95%\n",
       "──────────────────────────────────────────────────────────────────────────\n",
       "(Intercept)  0.223564    0.165852   1.35    0.1935  -0.123568    0.570696\n",
       "thick        0.0424537   0.0177812  2.39    0.0275   0.00523717  0.0796701\n",
       "──────────────────────────────────────────────────────────────────────────"
      ]
     },
     "metadata": {},
     "output_type": "display_data"
    }
   ],
   "source": [
    "linear_L_multix = lm(fm, multix_L_data)"
   ]
  },
  {
   "cell_type": "code",
   "execution_count": 166,
   "metadata": {},
   "outputs": [
    {
     "data": {
      "text/plain": [
       "StatsModels.TableRegressionModel{LinearModel{GLM.LmResp{Vector{Float64}}, GLM.DensePredChol{Float64, LinearAlgebra.CholeskyPivoted{Float64, Matrix{Float64}}}}, Matrix{Float64}}\n",
       "\n",
       "cov ~ 1 + thick\n",
       "\n",
       "Coefficients:\n",
       "─────────────────────────────────────────────────────────────────────────\n",
       "                 Coef.  Std. Error     t  Pr(>|t|)   Lower 95%  Upper 95%\n",
       "─────────────────────────────────────────────────────────────────────────\n",
       "(Intercept)  0.348867    0.232114   1.50    0.1493  -0.136954    0.834687\n",
       "thick        0.0733708   0.0248852  2.95    0.0083   0.0212854   0.125456\n",
       "─────────────────────────────────────────────────────────────────────────"
      ]
     },
     "metadata": {},
     "output_type": "display_data"
    }
   ],
   "source": [
    "linear_R_classic = lm(fm, classic_R_data)\n"
   ]
  },
  {
   "cell_type": "code",
   "execution_count": 167,
   "metadata": {},
   "outputs": [
    {
     "data": {
      "text/plain": [
       "StatsModels.TableRegressionModel{LinearModel{GLM.LmResp{Vector{Float64}}, GLM.DensePredChol{Float64, LinearAlgebra.CholeskyPivoted{Float64, Matrix{Float64}}}}, Matrix{Float64}}\n",
       "\n",
       "cov ~ 1 + thick\n",
       "\n",
       "Coefficients:\n",
       "──────────────────────────────────────────────────────────────────────────\n",
       "                Coef.  Std. Error     t  Pr(>|t|)     Lower 95%  Upper 95%\n",
       "──────────────────────────────────────────────────────────────────────────\n",
       "(Intercept)  0.266512   0.127763   2.09    0.0507  -0.000899924  0.533924\n",
       "thick        0.037305   0.0136977  2.72    0.0135   0.00863545   0.0659746\n",
       "──────────────────────────────────────────────────────────────────────────"
      ]
     },
     "metadata": {},
     "output_type": "display_data"
    }
   ],
   "source": [
    "linear_R_multix = lm(fm, multix_R_data)"
   ]
  },
  {
   "cell_type": "code",
   "execution_count": 168,
   "metadata": {},
   "outputs": [],
   "source": [
    "## ====== Defining the filenames\n",
    "\n",
    "perf_classic_fname = Dict();\n",
    "perf_multix_fname = Dict();\n",
    "\n",
    "c1_fname = Dict();\n",
    "c2_fname = Dict();\n",
    "\n",
    "for j =1:7\n",
    "    # Classic\n",
    "    perf_classic_fname[j,1] = (string(\"rsub0\",j ,\"_Classic_reg_FAIR_6cm_meanPerf.nii.gz\"))\n",
    "    perf_classic_fname[j,2] = (string(\"rsub0\",j ,\"_Classic_reg_FAIR_9cm_meanPerf.nii.gz\"))\n",
    "    perf_classic_fname[j,3] = (string(\"rsub0\",j ,\"_Classic_reg_FAIR_12cm_meanPerf.nii.gz\"))\n",
    "    \n",
    "    # Multix\n",
    "    perf_multix_fname[j,1] = (string(\"rsub0\",j ,\"_Multix_FAIR_6cm_meanPerf.nii\"))\n",
    "    perf_multix_fname[j,2] = (string(\"rsub0\",j ,\"_Multix_FAIR_9cm_meanPerf.nii\"))\n",
    "    perf_multix_fname[j,3] = (string(\"rsub0\",j ,\"_Multix_FAIR_12cm_meanPerf.nii\"))\n",
    "\n",
    "    # GM mask\n",
    "    c1_fname[j] = string(\"Left_GM_mask.nii.gz\")\n",
    "    c2_fname[j] = string(\"Right_GM_mask.nii.gz\")\n",
    "    \n",
    "end"
   ]
  },
  {
   "cell_type": "code",
   "execution_count": 169,
   "metadata": {},
   "outputs": [],
   "source": [
    "## sSNR\n",
    "temp_classic = zeros(7,2);\n",
    "temp_multix = zeros(7,2);\n",
    "\n",
    "for kk = 1:7\n",
    "    for k = 1:2\n",
    "        temp_classic[kk, :].=sSNR_perf( foldername, perf_Dir[kk], perf_classic_fname[kk,1], anat_Dir[kk], c1_fname[kk], c2_fname[kk])\n",
    "        temp_multix[kk, :].=sSNR_perf(foldername, perf_Dir[kk], perf_multix_fname[kk,1], anat_Dir[kk], c1_fname[kk], c2_fname[kk])\n",
    "    end\n",
    "end\n",
    "\n",
    "\n"
   ]
  },
  {
   "cell_type": "code",
   "execution_count": 160,
   "metadata": {},
   "outputs": [
    {
     "data": {
      "text/plain": [
       "\"/Users/icarooliveira/Documents/ASL_7T/sSNR.csv\""
      ]
     },
     "metadata": {},
     "output_type": "display_data"
    }
   ],
   "source": [
    "## merging all the dataset\n",
    "\n",
    "# classic_data = DataFrame(temp_classic,:auto)\n",
    "# multix_data = DataFrame(temp_multix,:auto)\n",
    "\n",
    "# new_classic_vector = vcat(temp_classic[:,1], temp_classic[:,2]);\n",
    "# new_multix_vector = vcat(temp_multix[:,1], temp_multix[:,2]);\n",
    "\n",
    "\n",
    "\n",
    "all_data = DataFrame();\n",
    "#vcat(multix_data, classic_data)\n",
    "\n",
    "all_data.roi = repeat([\"GM_L\",\"GM_R\"], inner=14);\n",
    "all_data.sub = repeat([\"P01\",\"P02\", \"P03\", \"P04\", \"P05\", \"P06\", \"P07\"], outer=4);\n",
    "all_data.coil = repeat([\"2Tx\", \"pTx\"], inner=7, outer =2);\n",
    "all_data.values = vcat(temp_classic[:,1],temp_multix[:,1],temp_classic[:,2],temp_multix[:,2]);\n",
    "\n",
    "CSV.write(joinpath(pwd(), \"sSNR.csv\"), all_data)"
   ]
  },
  {
   "cell_type": "code",
   "execution_count": 9,
   "metadata": {},
   "outputs": [
    {
     "data": {
      "image/png": "[encoded data removed]",
      "image/svg+xml": [
       "<?xml version=\"1.0\" encoding=\"utf-8\"?>\n",
       "<svg xmlns=\"http://www.w3.org/2000/svg\" xmlns:xlink=\"http://www.w3.org/1999/xlink\" width=\"600\" height=\"400\" viewBox=\"0 0 2400 1600\">\n",
       "<defs>\n",
       "  <clipPath id=\"clip750\">\n",
       "    <rect x=\"0\" y=\"0\" width=\"2400\" height=\"1600\"/>\n",
       "  </clipPath>\n",
       "</defs>\n",
       "<path clip-path=\"url(#clip750)\" d=\"M0 1600 L2400 1600 L2400 0 L0 0  Z\" fill=\"#ffffff\" fill-rule=\"evenodd\" fill-opacity=\"1\"/>\n",
       "<defs>\n",
       "  <clipPath id=\"clip751\">\n",
       "    <rect x=\"480\" y=\"0\" width=\"1681\" height=\"1600\"/>\n",
       "  </clipPath>\n",
       "</defs>\n",
       "<path clip-path=\"url(#clip750)\" d=\"M219.542 1486.45 L2352.76 1486.45 L2352.76 47.2441 L219.542 47.2441  Z\" fill=\"#ffffff\" fill-rule=\"evenodd\" fill-opacity=\"1\"/>\n",
       "<defs>\n",
       "  <clipPath id=\"clip752\">\n",
       "    <rect x=\"219\" y=\"47\" width=\"2134\" height=\"1440\"/>\n",
       "  </clipPath>\n",
       "</defs>\n",
       "<polyline clip-path=\"url(#clip752)\" style=\"stroke:#000000; stroke-linecap:round; stroke-linejoin:round; stroke-width:2; stroke-opacity:0.1; fill:none\" points=\"447.622,1486.45 447.622,47.2441 \"/>\n",
       "<polyline clip-path=\"url(#clip752)\" style=\"stroke:#000000; stroke-linecap:round; stroke-linejoin:round; stroke-width:2; stroke-opacity:0.1; fill:none\" points=\"727.131,1486.45 727.131,47.2441 \"/>\n",
       "<polyline clip-path=\"url(#clip752)\" style=\"stroke:#000000; stroke-linecap:round; stroke-linejoin:round; stroke-width:2; stroke-opacity:0.1; fill:none\" points=\"1006.64,1486.45 1006.64,47.2441 \"/>\n",
       "<polyline clip-path=\"url(#clip752)\" style=\"stroke:#000000; stroke-linecap:round; stroke-linejoin:round; stroke-width:2; stroke-opacity:0.1; fill:none\" points=\"1286.15,1486.45 1286.15,47.2441 \"/>\n",
       "<polyline clip-path=\"url(#clip752)\" style=\"stroke:#000000; stroke-linecap:round; stroke-linejoin:round; stroke-width:2; stroke-opacity:0.1; fill:none\" points=\"1565.66,1486.45 1565.66,47.2441 \"/>\n",
       "<polyline clip-path=\"url(#clip752)\" style=\"stroke:#000000; stroke-linecap:round; stroke-linejoin:round; stroke-width:2; stroke-opacity:0.1; fill:none\" points=\"1845.17,1486.45 1845.17,47.2441 \"/>\n",
       "<polyline clip-path=\"url(#clip752)\" style=\"stroke:#000000; stroke-linecap:round; stroke-linejoin:round; stroke-width:2; stroke-opacity:0.1; fill:none\" points=\"2124.68,1486.45 2124.68,47.2441 \"/>\n",
       "<polyline clip-path=\"url(#clip750)\" style=\"stroke:#000000; stroke-linecap:round; stroke-linejoin:round; stroke-width:4; stroke-opacity:1; fill:none\" points=\"219.542,1486.45 2352.76,1486.45 \"/>\n",
       "<polyline clip-path=\"url(#clip750)\" style=\"stroke:#000000; stroke-linecap:round; stroke-linejoin:round; stroke-width:4; stroke-opacity:1; fill:none\" points=\"447.622,1486.45 447.622,1467.55 \"/>\n",
       "<polyline clip-path=\"url(#clip750)\" style=\"stroke:#000000; stroke-linecap:round; stroke-linejoin:round; stroke-width:4; stroke-opacity:1; fill:none\" points=\"727.131,1486.45 727.131,1467.55 \"/>\n",
       "<polyline clip-path=\"url(#clip750)\" style=\"stroke:#000000; stroke-linecap:round; stroke-linejoin:round; stroke-width:4; stroke-opacity:1; fill:none\" points=\"1006.64,1486.45 1006.64,1467.55 \"/>\n",
       "<polyline clip-path=\"url(#clip750)\" style=\"stroke:#000000; stroke-linecap:round; stroke-linejoin:round; stroke-width:4; stroke-opacity:1; fill:none\" points=\"1286.15,1486.45 1286.15,1467.55 \"/>\n",
       "<polyline clip-path=\"url(#clip750)\" style=\"stroke:#000000; stroke-linecap:round; stroke-linejoin:round; stroke-width:4; stroke-opacity:1; fill:none\" points=\"1565.66,1486.45 1565.66,1467.55 \"/>\n",
       "<polyline clip-path=\"url(#clip750)\" style=\"stroke:#000000; stroke-linecap:round; stroke-linejoin:round; stroke-width:4; stroke-opacity:1; fill:none\" points=\"1845.17,1486.45 1845.17,1467.55 \"/>\n",
       "<polyline clip-path=\"url(#clip750)\" style=\"stroke:#000000; stroke-linecap:round; stroke-linejoin:round; stroke-width:4; stroke-opacity:1; fill:none\" points=\"2124.68,1486.45 2124.68,1467.55 \"/>\n",
       "<path clip-path=\"url(#clip750)\" d=\"M410.423 1517.37 Q406.812 1517.37 404.983 1520.93 Q403.177 1524.47 403.177 1531.6 Q403.177 1538.71 404.983 1542.27 Q406.812 1545.82 410.423 1545.82 Q414.057 1545.82 415.863 1542.27 Q417.691 1538.71 417.691 1531.6 Q417.691 1524.47 415.863 1520.93 Q414.057 1517.37 410.423 1517.37 M410.423 1513.66 Q416.233 1513.66 419.288 1518.27 Q422.367 1522.85 422.367 1531.6 Q422.367 1540.33 419.288 1544.94 Q416.233 1549.52 410.423 1549.52 Q404.613 1549.52 401.534 1544.94 Q398.478 1540.33 398.478 1531.6 Q398.478 1522.85 401.534 1518.27 Q404.613 1513.66 410.423 1513.66 Z\" fill=\"#000000\" fill-rule=\"nonzero\" fill-opacity=\"1\" /><path clip-path=\"url(#clip750)\" d=\"M430.585 1542.97 L435.469 1542.97 L435.469 1548.85 L430.585 1548.85 L430.585 1542.97 Z\" fill=\"#000000\" fill-rule=\"nonzero\" fill-opacity=\"1\" /><path clip-path=\"url(#clip750)\" d=\"M444.474 1514.29 L466.696 1514.29 L466.696 1516.28 L454.149 1548.85 L449.265 1548.85 L461.071 1518.22 L444.474 1518.22 L444.474 1514.29 Z\" fill=\"#000000\" fill-rule=\"nonzero\" fill-opacity=\"1\" /><path clip-path=\"url(#clip750)\" d=\"M475.862 1514.29 L494.219 1514.29 L494.219 1518.22 L480.145 1518.22 L480.145 1526.7 Q481.163 1526.35 482.182 1526.19 Q483.2 1526 484.219 1526 Q490.006 1526 493.385 1529.17 Q496.765 1532.34 496.765 1537.76 Q496.765 1543.34 493.293 1546.44 Q489.82 1549.52 483.501 1549.52 Q481.325 1549.52 479.057 1549.15 Q476.811 1548.78 474.404 1548.04 L474.404 1543.34 Q476.487 1544.47 478.709 1545.03 Q480.932 1545.58 483.408 1545.58 Q487.413 1545.58 489.751 1543.48 Q492.089 1541.37 492.089 1537.76 Q492.089 1534.15 489.751 1532.04 Q487.413 1529.94 483.408 1529.94 Q481.534 1529.94 479.659 1530.35 Q477.807 1530.77 475.862 1531.65 L475.862 1514.29 Z\" fill=\"#000000\" fill-rule=\"nonzero\" fill-opacity=\"1\" /><path clip-path=\"url(#clip750)\" d=\"M679.203 1544.91 L686.842 1544.91 L686.842 1518.55 L678.532 1520.21 L678.532 1515.95 L686.795 1514.29 L691.471 1514.29 L691.471 1544.91 L699.11 1544.91 L699.11 1548.85 L679.203 1548.85 L679.203 1544.91 Z\" fill=\"#000000\" fill-rule=\"nonzero\" fill-opacity=\"1\" /><path clip-path=\"url(#clip750)\" d=\"M708.554 1542.97 L713.439 1542.97 L713.439 1548.85 L708.554 1548.85 L708.554 1542.97 Z\" fill=\"#000000\" fill-rule=\"nonzero\" fill-opacity=\"1\" /><path clip-path=\"url(#clip750)\" d=\"M733.624 1517.37 Q730.013 1517.37 728.184 1520.93 Q726.378 1524.47 726.378 1531.6 Q726.378 1538.71 728.184 1542.27 Q730.013 1545.82 733.624 1545.82 Q737.258 1545.82 739.064 1542.27 Q740.892 1538.71 740.892 1531.6 Q740.892 1524.47 739.064 1520.93 Q737.258 1517.37 733.624 1517.37 M733.624 1513.66 Q739.434 1513.66 742.489 1518.27 Q745.568 1522.85 745.568 1531.6 Q745.568 1540.33 742.489 1544.94 Q739.434 1549.52 733.624 1549.52 Q727.814 1549.52 724.735 1544.94 Q721.679 1540.33 721.679 1531.6 Q721.679 1522.85 724.735 1518.27 Q727.814 1513.66 733.624 1513.66 Z\" fill=\"#000000\" fill-rule=\"nonzero\" fill-opacity=\"1\" /><path clip-path=\"url(#clip750)\" d=\"M763.786 1517.37 Q760.175 1517.37 758.346 1520.93 Q756.54 1524.47 756.54 1531.6 Q756.54 1538.71 758.346 1542.27 Q760.175 1545.82 763.786 1545.82 Q767.42 1545.82 769.225 1542.27 Q771.054 1538.71 771.054 1531.6 Q771.054 1524.47 769.225 1520.93 Q767.42 1517.37 763.786 1517.37 M763.786 1513.66 Q769.596 1513.66 772.651 1518.27 Q775.73 1522.85 775.73 1531.6 Q775.73 1540.33 772.651 1544.94 Q769.596 1549.52 763.786 1549.52 Q757.976 1549.52 754.897 1544.94 Q751.841 1540.33 751.841 1531.6 Q751.841 1522.85 754.897 1518.27 Q757.976 1513.66 763.786 1513.66 Z\" fill=\"#000000\" fill-rule=\"nonzero\" fill-opacity=\"1\" /><path clip-path=\"url(#clip750)\" d=\"M959.21 1544.91 L966.848 1544.91 L966.848 1518.55 L958.538 1520.21 L958.538 1515.95 L966.802 1514.29 L971.478 1514.29 L971.478 1544.91 L979.117 1544.91 L979.117 1548.85 L959.21 1548.85 L959.21 1544.91 Z\" fill=\"#000000\" fill-rule=\"nonzero\" fill-opacity=\"1\" /><path clip-path=\"url(#clip750)\" d=\"M988.561 1542.97 L993.446 1542.97 L993.446 1548.85 L988.561 1548.85 L988.561 1542.97 Z\" fill=\"#000000\" fill-rule=\"nonzero\" fill-opacity=\"1\" /><path clip-path=\"url(#clip750)\" d=\"M1007.66 1544.91 L1023.98 1544.91 L1023.98 1548.85 L1002.03 1548.85 L1002.03 1544.91 Q1004.7 1542.16 1009.28 1537.53 Q1013.89 1532.88 1015.07 1531.53 Q1017.31 1529.01 1018.19 1527.27 Q1019.09 1525.51 1019.09 1523.82 Q1019.09 1521.07 1017.15 1519.33 Q1015.23 1517.6 1012.13 1517.6 Q1009.93 1517.6 1007.47 1518.36 Q1005.04 1519.13 1002.26 1520.68 L1002.26 1515.95 Q1005.09 1514.82 1007.54 1514.24 Q1010 1513.66 1012.03 1513.66 Q1017.4 1513.66 1020.6 1516.35 Q1023.79 1519.03 1023.79 1523.52 Q1023.79 1525.65 1022.98 1527.57 Q1022.2 1529.47 1020.09 1532.07 Q1019.51 1532.74 1016.41 1535.95 Q1013.31 1539.15 1007.66 1544.91 Z\" fill=\"#000000\" fill-rule=\"nonzero\" fill-opacity=\"1\" /><path clip-path=\"url(#clip750)\" d=\"M1033.84 1514.29 L1052.2 1514.29 L1052.2 1518.22 L1038.12 1518.22 L1038.12 1526.7 Q1039.14 1526.35 1040.16 1526.19 Q1041.18 1526 1042.2 1526 Q1047.98 1526 1051.36 1529.17 Q1054.74 1532.34 1054.74 1537.76 Q1054.74 1543.34 1051.27 1546.44 Q1047.8 1549.52 1041.48 1549.52 Q1039.3 1549.52 1037.03 1549.15 Q1034.79 1548.78 1032.38 1548.04 L1032.38 1543.34 Q1034.46 1544.47 1036.69 1545.03 Q1038.91 1545.58 1041.39 1545.58 Q1045.39 1545.58 1047.73 1543.48 Q1050.07 1541.37 1050.07 1537.76 Q1050.07 1534.15 1047.73 1532.04 Q1045.39 1529.94 1041.39 1529.94 Q1039.51 1529.94 1037.64 1530.35 Q1035.78 1530.77 1033.84 1531.65 L1033.84 1514.29 Z\" fill=\"#000000\" fill-rule=\"nonzero\" fill-opacity=\"1\" /><path clip-path=\"url(#clip750)\" d=\"M1238.22 1544.91 L1245.86 1544.91 L1245.86 1518.55 L1237.55 1520.21 L1237.55 1515.95 L1245.81 1514.29 L1250.49 1514.29 L1250.49 1544.91 L1258.13 1544.91 L1258.13 1548.85 L1238.22 1548.85 L1238.22 1544.91 Z\" fill=\"#000000\" fill-rule=\"nonzero\" fill-opacity=\"1\" /><path clip-path=\"url(#clip750)\" d=\"M1267.57 1542.97 L1272.46 1542.97 L1272.46 1548.85 L1267.57 1548.85 L1267.57 1542.97 Z\" fill=\"#000000\" fill-rule=\"nonzero\" fill-opacity=\"1\" /><path clip-path=\"url(#clip750)\" d=\"M1282.69 1514.29 L1301.04 1514.29 L1301.04 1518.22 L1286.97 1518.22 L1286.97 1526.7 Q1287.99 1526.35 1289.01 1526.19 Q1290.03 1526 1291.04 1526 Q1296.83 1526 1300.21 1529.17 Q1303.59 1532.34 1303.59 1537.76 Q1303.59 1543.34 1300.12 1546.44 Q1296.65 1549.52 1290.33 1549.52 Q1288.15 1549.52 1285.88 1549.15 Q1283.64 1548.78 1281.23 1548.04 L1281.23 1543.34 Q1283.31 1544.47 1285.54 1545.03 Q1287.76 1545.58 1290.23 1545.58 Q1294.24 1545.58 1296.58 1543.48 Q1298.92 1541.37 1298.92 1537.76 Q1298.92 1534.15 1296.58 1532.04 Q1294.24 1529.94 1290.23 1529.94 Q1288.36 1529.94 1286.48 1530.35 Q1284.63 1530.77 1282.69 1531.65 L1282.69 1514.29 Z\" fill=\"#000000\" fill-rule=\"nonzero\" fill-opacity=\"1\" /><path clip-path=\"url(#clip750)\" d=\"M1322.8 1517.37 Q1319.19 1517.37 1317.36 1520.93 Q1315.56 1524.47 1315.56 1531.6 Q1315.56 1538.71 1317.36 1542.27 Q1319.19 1545.82 1322.8 1545.82 Q1326.44 1545.82 1328.24 1542.27 Q1330.07 1538.71 1330.07 1531.6 Q1330.07 1524.47 1328.24 1520.93 Q1326.44 1517.37 1322.8 1517.37 M1322.8 1513.66 Q1328.61 1513.66 1331.67 1518.27 Q1334.75 1522.85 1334.75 1531.6 Q1334.75 1540.33 1331.67 1544.94 Q1328.61 1549.52 1322.8 1549.52 Q1316.99 1549.52 1313.92 1544.94 Q1310.86 1540.33 1310.86 1531.6 Q1310.86 1522.85 1313.92 1518.27 Q1316.99 1513.66 1322.8 1513.66 Z\" fill=\"#000000\" fill-rule=\"nonzero\" fill-opacity=\"1\" /><path clip-path=\"url(#clip750)\" d=\"M1518.23 1544.91 L1525.87 1544.91 L1525.87 1518.55 L1517.56 1520.21 L1517.56 1515.95 L1525.82 1514.29 L1530.5 1514.29 L1530.5 1544.91 L1538.14 1544.91 L1538.14 1548.85 L1518.23 1548.85 L1518.23 1544.91 Z\" fill=\"#000000\" fill-rule=\"nonzero\" fill-opacity=\"1\" /><path clip-path=\"url(#clip750)\" d=\"M1547.58 1542.97 L1552.46 1542.97 L1552.46 1548.85 L1547.58 1548.85 L1547.58 1542.97 Z\" fill=\"#000000\" fill-rule=\"nonzero\" fill-opacity=\"1\" /><path clip-path=\"url(#clip750)\" d=\"M1561.47 1514.29 L1583.69 1514.29 L1583.69 1516.28 L1571.14 1548.85 L1566.26 1548.85 L1578.07 1518.22 L1561.47 1518.22 L1561.47 1514.29 Z\" fill=\"#000000\" fill-rule=\"nonzero\" fill-opacity=\"1\" /><path clip-path=\"url(#clip750)\" d=\"M1592.86 1514.29 L1611.21 1514.29 L1611.21 1518.22 L1597.14 1518.22 L1597.14 1526.7 Q1598.16 1526.35 1599.18 1526.19 Q1600.2 1526 1601.21 1526 Q1607 1526 1610.38 1529.17 Q1613.76 1532.34 1613.76 1537.76 Q1613.76 1543.34 1610.29 1546.44 Q1606.82 1549.52 1600.5 1549.52 Q1598.32 1549.52 1596.05 1549.15 Q1593.81 1548.78 1591.4 1548.04 L1591.4 1543.34 Q1593.48 1544.47 1595.7 1545.03 Q1597.93 1545.58 1600.4 1545.58 Q1604.41 1545.58 1606.75 1543.48 Q1609.08 1541.37 1609.08 1537.76 Q1609.08 1534.15 1606.75 1532.04 Q1604.41 1529.94 1600.4 1529.94 Q1598.53 1529.94 1596.65 1530.35 Q1594.8 1530.77 1592.86 1531.65 L1592.86 1514.29 Z\" fill=\"#000000\" fill-rule=\"nonzero\" fill-opacity=\"1\" /><path clip-path=\"url(#clip750)\" d=\"M1801.32 1544.91 L1817.64 1544.91 L1817.64 1548.85 L1795.7 1548.85 L1795.7 1544.91 Q1798.36 1542.16 1802.95 1537.53 Q1807.55 1532.88 1808.73 1531.53 Q1810.98 1529.01 1811.86 1527.27 Q1812.76 1525.51 1812.76 1523.82 Q1812.76 1521.07 1810.82 1519.33 Q1808.89 1517.6 1805.79 1517.6 Q1803.59 1517.6 1801.14 1518.36 Q1798.71 1519.13 1795.93 1520.68 L1795.93 1515.95 Q1798.76 1514.82 1801.21 1514.24 Q1803.66 1513.66 1805.7 1513.66 Q1811.07 1513.66 1814.26 1516.35 Q1817.46 1519.03 1817.46 1523.52 Q1817.46 1525.65 1816.65 1527.57 Q1815.86 1529.47 1813.76 1532.07 Q1813.18 1532.74 1810.07 1535.95 Q1806.97 1539.15 1801.32 1544.91 Z\" fill=\"#000000\" fill-rule=\"nonzero\" fill-opacity=\"1\" /><path clip-path=\"url(#clip750)\" d=\"M1827.46 1542.97 L1832.34 1542.97 L1832.34 1548.85 L1827.46 1548.85 L1827.46 1542.97 Z\" fill=\"#000000\" fill-rule=\"nonzero\" fill-opacity=\"1\" /><path clip-path=\"url(#clip750)\" d=\"M1852.53 1517.37 Q1848.92 1517.37 1847.09 1520.93 Q1845.28 1524.47 1845.28 1531.6 Q1845.28 1538.71 1847.09 1542.27 Q1848.92 1545.82 1852.53 1545.82 Q1856.16 1545.82 1857.97 1542.27 Q1859.8 1538.71 1859.8 1531.6 Q1859.8 1524.47 1857.97 1520.93 Q1856.16 1517.37 1852.53 1517.37 M1852.53 1513.66 Q1858.34 1513.66 1861.39 1518.27 Q1864.47 1522.85 1864.47 1531.6 Q1864.47 1540.33 1861.39 1544.94 Q1858.34 1549.52 1852.53 1549.52 Q1846.72 1549.52 1843.64 1544.94 Q1840.58 1540.33 1840.58 1531.6 Q1840.58 1522.85 1843.64 1518.27 Q1846.72 1513.66 1852.53 1513.66 Z\" fill=\"#000000\" fill-rule=\"nonzero\" fill-opacity=\"1\" /><path clip-path=\"url(#clip750)\" d=\"M1882.69 1517.37 Q1879.08 1517.37 1877.25 1520.93 Q1875.44 1524.47 1875.44 1531.6 Q1875.44 1538.71 1877.25 1542.27 Q1879.08 1545.82 1882.69 1545.82 Q1886.32 1545.82 1888.13 1542.27 Q1889.96 1538.71 1889.96 1531.6 Q1889.96 1524.47 1888.13 1520.93 Q1886.32 1517.37 1882.69 1517.37 M1882.69 1513.66 Q1888.5 1513.66 1891.56 1518.27 Q1894.63 1522.85 1894.63 1531.6 Q1894.63 1540.33 1891.56 1544.94 Q1888.5 1549.52 1882.69 1549.52 Q1876.88 1549.52 1873.8 1544.94 Q1870.75 1540.33 1870.75 1531.6 Q1870.75 1522.85 1873.8 1518.27 Q1876.88 1513.66 1882.69 1513.66 Z\" fill=\"#000000\" fill-rule=\"nonzero\" fill-opacity=\"1\" /><path clip-path=\"url(#clip750)\" d=\"M2081.33 1544.91 L2097.65 1544.91 L2097.65 1548.85 L2075.71 1548.85 L2075.71 1544.91 Q2078.37 1542.16 2082.95 1537.53 Q2087.56 1532.88 2088.74 1531.53 Q2090.98 1529.01 2091.86 1527.27 Q2092.77 1525.51 2092.77 1523.82 Q2092.77 1521.07 2090.82 1519.33 Q2088.9 1517.6 2085.8 1517.6 Q2083.6 1517.6 2081.15 1518.36 Q2078.72 1519.13 2075.94 1520.68 L2075.94 1515.95 Q2078.76 1514.82 2081.22 1514.24 Q2083.67 1513.66 2085.71 1513.66 Q2091.08 1513.66 2094.27 1516.35 Q2097.47 1519.03 2097.47 1523.52 Q2097.47 1525.65 2096.66 1527.57 Q2095.87 1529.47 2093.76 1532.07 Q2093.18 1532.74 2090.08 1535.95 Q2086.98 1539.15 2081.33 1544.91 Z\" fill=\"#000000\" fill-rule=\"nonzero\" fill-opacity=\"1\" /><path clip-path=\"url(#clip750)\" d=\"M2107.47 1542.97 L2112.35 1542.97 L2112.35 1548.85 L2107.47 1548.85 L2107.47 1542.97 Z\" fill=\"#000000\" fill-rule=\"nonzero\" fill-opacity=\"1\" /><path clip-path=\"url(#clip750)\" d=\"M2126.56 1544.91 L2142.88 1544.91 L2142.88 1548.85 L2120.94 1548.85 L2120.94 1544.91 Q2123.6 1542.16 2128.18 1537.53 Q2132.79 1532.88 2133.97 1531.53 Q2136.22 1529.01 2137.1 1527.27 Q2138 1525.51 2138 1523.82 Q2138 1521.07 2136.05 1519.33 Q2134.13 1517.6 2131.03 1517.6 Q2128.83 1517.6 2126.38 1518.36 Q2123.95 1519.13 2121.17 1520.68 L2121.17 1515.95 Q2123.99 1514.82 2126.45 1514.24 Q2128.9 1513.66 2130.94 1513.66 Q2136.31 1513.66 2139.5 1516.35 Q2142.7 1519.03 2142.7 1523.52 Q2142.7 1525.65 2141.89 1527.57 Q2141.1 1529.47 2138.99 1532.07 Q2138.41 1532.74 2135.31 1535.95 Q2132.21 1539.15 2126.56 1544.91 Z\" fill=\"#000000\" fill-rule=\"nonzero\" fill-opacity=\"1\" /><path clip-path=\"url(#clip750)\" d=\"M2152.74 1514.29 L2171.1 1514.29 L2171.1 1518.22 L2157.03 1518.22 L2157.03 1526.7 Q2158.04 1526.35 2159.06 1526.19 Q2160.08 1526 2161.1 1526 Q2166.89 1526 2170.27 1529.17 Q2173.65 1532.34 2173.65 1537.76 Q2173.65 1543.34 2170.17 1546.44 Q2166.7 1549.52 2160.38 1549.52 Q2158.21 1549.52 2155.94 1549.15 Q2153.69 1548.78 2151.29 1548.04 L2151.29 1543.34 Q2153.37 1544.47 2155.59 1545.03 Q2157.81 1545.58 2160.29 1545.58 Q2164.29 1545.58 2166.63 1543.48 Q2168.97 1541.37 2168.97 1537.76 Q2168.97 1534.15 2166.63 1532.04 Q2164.29 1529.94 2160.29 1529.94 Q2158.41 1529.94 2156.54 1530.35 Q2154.69 1530.77 2152.74 1531.65 L2152.74 1514.29 Z\" fill=\"#000000\" fill-rule=\"nonzero\" fill-opacity=\"1\" /><polyline clip-path=\"url(#clip752)\" style=\"stroke:#000000; stroke-linecap:round; stroke-linejoin:round; stroke-width:2; stroke-opacity:0.1; fill:none\" points=\"219.542,1338.18 2352.76,1338.18 \"/>\n",
       "<polyline clip-path=\"url(#clip752)\" style=\"stroke:#000000; stroke-linecap:round; stroke-linejoin:round; stroke-width:2; stroke-opacity:0.1; fill:none\" points=\"219.542,976.324 2352.76,976.324 \"/>\n",
       "<polyline clip-path=\"url(#clip752)\" style=\"stroke:#000000; stroke-linecap:round; stroke-linejoin:round; stroke-width:2; stroke-opacity:0.1; fill:none\" points=\"219.542,614.463 2352.76,614.463 \"/>\n",
       "<polyline clip-path=\"url(#clip752)\" style=\"stroke:#000000; stroke-linecap:round; stroke-linejoin:round; stroke-width:2; stroke-opacity:0.1; fill:none\" points=\"219.542,252.603 2352.76,252.603 \"/>\n",
       "<polyline clip-path=\"url(#clip750)\" style=\"stroke:#000000; stroke-linecap:round; stroke-linejoin:round; stroke-width:4; stroke-opacity:1; fill:none\" points=\"219.542,1486.45 219.542,47.2441 \"/>\n",
       "<polyline clip-path=\"url(#clip750)\" style=\"stroke:#000000; stroke-linecap:round; stroke-linejoin:round; stroke-width:4; stroke-opacity:1; fill:none\" points=\"219.542,1338.18 238.44,1338.18 \"/>\n",
       "<polyline clip-path=\"url(#clip750)\" style=\"stroke:#000000; stroke-linecap:round; stroke-linejoin:round; stroke-width:4; stroke-opacity:1; fill:none\" points=\"219.542,976.324 238.44,976.324 \"/>\n",
       "<polyline clip-path=\"url(#clip750)\" style=\"stroke:#000000; stroke-linecap:round; stroke-linejoin:round; stroke-width:4; stroke-opacity:1; fill:none\" points=\"219.542,614.463 238.44,614.463 \"/>\n",
       "<polyline clip-path=\"url(#clip750)\" style=\"stroke:#000000; stroke-linecap:round; stroke-linejoin:round; stroke-width:4; stroke-opacity:1; fill:none\" points=\"219.542,252.603 238.44,252.603 \"/>\n",
       "<path clip-path=\"url(#clip750)\" d=\"M126.205 1323.98 Q122.593 1323.98 120.765 1327.55 Q118.959 1331.09 118.959 1338.22 Q118.959 1345.33 120.765 1348.89 Q122.593 1352.43 126.205 1352.43 Q129.839 1352.43 131.644 1348.89 Q133.473 1345.33 133.473 1338.22 Q133.473 1331.09 131.644 1327.55 Q129.839 1323.98 126.205 1323.98 M126.205 1320.28 Q132.015 1320.28 135.07 1324.89 Q138.149 1329.47 138.149 1338.22 Q138.149 1346.95 135.07 1351.55 Q132.015 1356.14 126.205 1356.14 Q120.394 1356.14 117.316 1351.55 Q114.26 1346.95 114.26 1338.22 Q114.26 1329.47 117.316 1324.89 Q120.394 1320.28 126.205 1320.28 Z\" fill=\"#000000\" fill-rule=\"nonzero\" fill-opacity=\"1\" /><path clip-path=\"url(#clip750)\" d=\"M146.366 1349.59 L151.251 1349.59 L151.251 1355.46 L146.366 1355.46 L146.366 1349.59 Z\" fill=\"#000000\" fill-rule=\"nonzero\" fill-opacity=\"1\" /><path clip-path=\"url(#clip750)\" d=\"M172.014 1336.32 Q168.866 1336.32 167.015 1338.47 Q165.186 1340.63 165.186 1344.38 Q165.186 1348.1 167.015 1350.28 Q168.866 1352.43 172.014 1352.43 Q175.163 1352.43 176.991 1350.28 Q178.843 1348.1 178.843 1344.38 Q178.843 1340.63 176.991 1338.47 Q175.163 1336.32 172.014 1336.32 M181.297 1321.67 L181.297 1325.93 Q179.538 1325.09 177.732 1324.65 Q175.95 1324.22 174.19 1324.22 Q169.561 1324.22 167.107 1327.34 Q164.677 1330.47 164.329 1336.78 Q165.695 1334.77 167.755 1333.71 Q169.815 1332.62 172.292 1332.62 Q177.501 1332.62 180.51 1335.79 Q183.542 1338.94 183.542 1344.38 Q183.542 1349.7 180.394 1352.92 Q177.246 1356.14 172.014 1356.14 Q166.019 1356.14 162.848 1351.55 Q159.677 1346.95 159.677 1338.22 Q159.677 1330.03 163.565 1325.16 Q167.454 1320.28 174.005 1320.28 Q175.764 1320.28 177.547 1320.63 Q179.352 1320.97 181.297 1321.67 Z\" fill=\"#000000\" fill-rule=\"nonzero\" fill-opacity=\"1\" /><path clip-path=\"url(#clip750)\" d=\"M126.459 962.123 Q122.848 962.123 121.019 965.688 Q119.214 969.229 119.214 976.359 Q119.214 983.465 121.019 987.03 Q122.848 990.572 126.459 990.572 Q130.093 990.572 131.899 987.03 Q133.728 983.465 133.728 976.359 Q133.728 969.229 131.899 965.688 Q130.093 962.123 126.459 962.123 M126.459 958.419 Q132.269 958.419 135.325 963.026 Q138.404 967.609 138.404 976.359 Q138.404 985.086 135.325 989.692 Q132.269 994.275 126.459 994.275 Q120.649 994.275 117.57 989.692 Q114.515 985.086 114.515 976.359 Q114.515 967.609 117.57 963.026 Q120.649 958.419 126.459 958.419 Z\" fill=\"#000000\" fill-rule=\"nonzero\" fill-opacity=\"1\" /><path clip-path=\"url(#clip750)\" d=\"M146.621 987.725 L151.505 987.725 L151.505 993.604 L146.621 993.604 L146.621 987.725 Z\" fill=\"#000000\" fill-rule=\"nonzero\" fill-opacity=\"1\" /><path clip-path=\"url(#clip750)\" d=\"M171.69 977.192 Q168.357 977.192 166.436 978.975 Q164.538 980.757 164.538 983.882 Q164.538 987.007 166.436 988.789 Q168.357 990.572 171.69 990.572 Q175.024 990.572 176.945 988.789 Q178.866 986.984 178.866 983.882 Q178.866 980.757 176.945 978.975 Q175.047 977.192 171.69 977.192 M167.015 975.201 Q164.005 974.461 162.315 972.401 Q160.649 970.34 160.649 967.377 Q160.649 963.234 163.589 960.827 Q166.552 958.419 171.69 958.419 Q176.852 958.419 179.792 960.827 Q182.732 963.234 182.732 967.377 Q182.732 970.34 181.042 972.401 Q179.376 974.461 176.389 975.201 Q179.769 975.989 181.644 978.28 Q183.542 980.572 183.542 983.882 Q183.542 988.905 180.464 991.59 Q177.408 994.275 171.69 994.275 Q165.973 994.275 162.894 991.59 Q159.839 988.905 159.839 983.882 Q159.839 980.572 161.737 978.28 Q163.635 975.989 167.015 975.201 M165.302 967.817 Q165.302 970.502 166.968 972.007 Q168.658 973.512 171.69 973.512 Q174.7 973.512 176.389 972.007 Q178.102 970.502 178.102 967.817 Q178.102 965.132 176.389 963.627 Q174.7 962.123 171.69 962.123 Q168.658 962.123 166.968 963.627 Q165.302 965.132 165.302 967.817 Z\" fill=\"#000000\" fill-rule=\"nonzero\" fill-opacity=\"1\" /><path clip-path=\"url(#clip750)\" d=\"M117.177 627.808 L124.816 627.808 L124.816 601.443 L116.506 603.109 L116.506 598.85 L124.769 597.183 L129.445 597.183 L129.445 627.808 L137.084 627.808 L137.084 631.743 L117.177 631.743 L117.177 627.808 Z\" fill=\"#000000\" fill-rule=\"nonzero\" fill-opacity=\"1\" /><path clip-path=\"url(#clip750)\" d=\"M146.529 625.864 L151.413 625.864 L151.413 631.743 L146.529 631.743 L146.529 625.864 Z\" fill=\"#000000\" fill-rule=\"nonzero\" fill-opacity=\"1\" /><path clip-path=\"url(#clip750)\" d=\"M171.598 600.262 Q167.987 600.262 166.158 603.827 Q164.352 607.369 164.352 614.498 Q164.352 621.605 166.158 625.169 Q167.987 628.711 171.598 628.711 Q175.232 628.711 177.038 625.169 Q178.866 621.605 178.866 614.498 Q178.866 607.369 177.038 603.827 Q175.232 600.262 171.598 600.262 M171.598 596.558 Q177.408 596.558 180.464 601.165 Q183.542 605.748 183.542 614.498 Q183.542 623.225 180.464 627.831 Q177.408 632.415 171.598 632.415 Q165.788 632.415 162.709 627.831 Q159.653 623.225 159.653 614.498 Q159.653 605.748 162.709 601.165 Q165.788 596.558 171.598 596.558 Z\" fill=\"#000000\" fill-rule=\"nonzero\" fill-opacity=\"1\" /><path clip-path=\"url(#clip750)\" d=\"M118.774 265.948 L126.413 265.948 L126.413 239.582 L118.103 241.249 L118.103 236.989 L126.367 235.323 L131.042 235.323 L131.042 265.948 L138.681 265.948 L138.681 269.883 L118.774 269.883 L118.774 265.948 Z\" fill=\"#000000\" fill-rule=\"nonzero\" fill-opacity=\"1\" /><path clip-path=\"url(#clip750)\" d=\"M148.126 264.003 L153.01 264.003 L153.01 269.883 L148.126 269.883 L148.126 264.003 Z\" fill=\"#000000\" fill-rule=\"nonzero\" fill-opacity=\"1\" /><path clip-path=\"url(#clip750)\" d=\"M167.223 265.948 L183.542 265.948 L183.542 269.883 L161.598 269.883 L161.598 265.948 Q164.26 263.193 168.843 258.563 Q173.45 253.911 174.63 252.568 Q176.876 250.045 177.755 248.309 Q178.658 246.55 178.658 244.86 Q178.658 242.105 176.714 240.369 Q174.792 238.633 171.69 238.633 Q169.491 238.633 167.038 239.397 Q164.607 240.161 161.829 241.712 L161.829 236.989 Q164.653 235.855 167.107 235.276 Q169.561 234.698 171.598 234.698 Q176.968 234.698 180.163 237.383 Q183.357 240.068 183.357 244.559 Q183.357 246.688 182.547 248.61 Q181.76 250.508 179.653 253.1 Q179.075 253.772 175.973 256.989 Q172.871 260.184 167.223 265.948 Z\" fill=\"#000000\" fill-rule=\"nonzero\" fill-opacity=\"1\" /><path clip-path=\"url(#clip750)\" d=\"M20.1444 795.539 L26.9239 795.539 Q23.9002 798.786 22.4043 802.478 Q20.9083 806.138 20.9083 810.276 Q20.9083 818.424 25.9054 822.753 Q30.8707 827.081 40.2919 827.081 Q49.6813 827.081 54.6784 822.753 Q59.6436 818.424 59.6436 810.276 Q59.6436 806.138 58.1477 802.478 Q56.6518 798.786 53.6281 795.539 L60.3439 795.539 Q62.6355 798.913 63.7814 802.701 Q64.9272 806.457 64.9272 810.658 Q64.9272 821.448 58.3387 827.654 Q51.7183 833.861 40.2919 833.861 Q28.8336 833.861 22.2451 827.654 Q15.6248 821.448 15.6248 810.658 Q15.6248 806.393 16.7706 802.637 Q17.8846 798.85 20.1444 795.539 Z\" fill=\"#000000\" fill-rule=\"nonzero\" fill-opacity=\"1\" /><path clip-path=\"url(#clip750)\" d=\"M16.4842 785.609 L16.4842 776.952 L56.238 755.881 L16.4842 755.881 L16.4842 749.643 L64.0042 749.643 L64.0042 758.3 L24.2503 779.371 L64.0042 779.371 L64.0042 785.609 L16.4842 785.609 Z\" fill=\"#000000\" fill-rule=\"nonzero\" fill-opacity=\"1\" /><path clip-path=\"url(#clip750)\" d=\"M41.7242 714.313 Q42.4244 712.244 44.7161 710.303 Q47.0077 708.329 51.0181 706.356 L64.0042 699.831 L64.0042 706.738 L51.8138 712.817 Q47.0395 715.172 45.48 717.4 Q43.9204 719.597 43.9204 723.416 L43.9204 730.418 L64.0042 730.418 L64.0042 736.848 L16.4842 736.848 L16.4842 722.334 Q16.4842 714.186 19.8898 710.175 Q23.2955 706.165 30.1704 706.165 Q34.6582 706.165 37.6183 708.266 Q40.5784 710.334 41.7242 714.313 M21.7677 730.418 L38.6368 730.418 L38.6368 722.334 Q38.6368 717.687 36.5043 715.332 Q34.34 712.944 30.1704 712.944 Q26.0009 712.944 23.9002 715.332 Q21.7677 717.687 21.7677 722.334 L21.7677 730.418 Z\" fill=\"#000000\" fill-rule=\"nonzero\" fill-opacity=\"1\" /><path clip-path=\"url(#clip752)\" d=\"M727.131 1445.72 L503.523 1445.72 L950.738 1445.72 L727.131 1445.72 L727.131 1418.84 L727.131 1445.72  Z\" fill=\"#009af9\" fill-rule=\"evenodd\" fill-opacity=\"1\"/>\n",
       "<polyline clip-path=\"url(#clip752)\" style=\"stroke:#000000; stroke-linecap:round; stroke-linejoin:round; stroke-width:4; stroke-opacity:1; fill:none\" points=\"727.131,1445.72 503.523,1445.72 950.738,1445.72 727.131,1445.72 727.131,1418.84 727.131,1445.72 \"/>\n",
       "<path clip-path=\"url(#clip752)\" d=\"M1174.35 1418.84 L1174.35 1328 L279.916 1328 L279.916 1418.84 L1174.35 1418.84 L1174.35 1328 L1174.35 1418.84  Z\" fill=\"#009af9\" fill-rule=\"evenodd\" fill-opacity=\"1\"/>\n",
       "<polyline clip-path=\"url(#clip752)\" style=\"stroke:#000000; stroke-linecap:round; stroke-linejoin:round; stroke-width:4; stroke-opacity:1; fill:none\" points=\"1174.35,1418.84 1174.35,1328 279.916,1328 279.916,1418.84 1174.35,1418.84 1174.35,1328 1174.35,1418.84 \"/>\n",
       "<path clip-path=\"url(#clip752)\" d=\"M1174.35 1148.14 L279.916 1148.14 L279.916 1328 L1174.35 1328 L1174.35 1148.14 L727.131 1148.14 L1174.35 1148.14  Z\" fill=\"#009af9\" fill-rule=\"evenodd\" fill-opacity=\"1\"/>\n",
       "<polyline clip-path=\"url(#clip752)\" style=\"stroke:#000000; stroke-linecap:round; stroke-linejoin:round; stroke-width:4; stroke-opacity:1; fill:none\" points=\"1174.35,1148.14 279.916,1148.14 279.916,1328 1174.35,1328 1174.35,1148.14 727.131,1148.14 1174.35,1148.14 \"/>\n",
       "<path clip-path=\"url(#clip752)\" d=\"M727.131 1058.12 L503.523 1058.12 L950.738 1058.12 L727.131 1058.12 L727.131 1148.14 L727.131 1058.12  Z\" fill=\"#009af9\" fill-rule=\"evenodd\" fill-opacity=\"1\"/>\n",
       "<polyline clip-path=\"url(#clip752)\" style=\"stroke:#000000; stroke-linecap:round; stroke-linejoin:round; stroke-width:4; stroke-opacity:1; fill:none\" points=\"727.131,1058.12 503.523,1058.12 950.738,1058.12 727.131,1058.12 727.131,1148.14 727.131,1058.12 \"/>\n",
       "<circle clip-path=\"url(#clip752)\" cx=\"727.131\" cy=\"673.022\" r=\"14.4\" fill=\"#009af9\" fill-rule=\"evenodd\" fill-opacity=\"1\" stroke=\"#000000\" stroke-opacity=\"1\" stroke-width=\"3.2\"/>\n",
       "<polyline clip-path=\"url(#clip752)\" style=\"stroke:#009af9; stroke-linecap:round; stroke-linejoin:round; stroke-width:0; stroke-opacity:1; fill:none\" points=\"727.131,1445.72 503.523,1445.72 950.738,1445.72 727.131,1445.72 727.131,1418.84 \"/>\n",
       "<polyline clip-path=\"url(#clip752)\" style=\"stroke:#009af9; stroke-linecap:round; stroke-linejoin:round; stroke-width:0; stroke-opacity:1; fill:none\" points=\"1174.35,1418.84 1174.35,1328 279.916,1328 279.916,1418.84 1174.35,1418.84 1174.35,1328 \"/>\n",
       "<polyline clip-path=\"url(#clip752)\" style=\"stroke:#009af9; stroke-linecap:round; stroke-linejoin:round; stroke-width:0; stroke-opacity:1; fill:none\" points=\"1174.35,1148.14 279.916,1148.14 279.916,1328 1174.35,1328 1174.35,1148.14 727.131,1148.14 \"/>\n",
       "<polyline clip-path=\"url(#clip752)\" style=\"stroke:#009af9; stroke-linecap:round; stroke-linejoin:round; stroke-width:0; stroke-opacity:1; fill:none\" points=\"727.131,1058.12 503.523,1058.12 950.738,1058.12 727.131,1058.12 727.131,1148.14 \"/>\n",
       "<path clip-path=\"url(#clip752)\" d=\"M1845.17 578.302 L1621.56 578.302 L2068.77 578.302 L1845.17 578.302 L1845.17 436.838 L1845.17 578.302  Z\" fill=\"#e26f46\" fill-rule=\"evenodd\" fill-opacity=\"1\"/>\n",
       "<polyline clip-path=\"url(#clip752)\" style=\"stroke:#000000; stroke-linecap:round; stroke-linejoin:round; stroke-width:4; stroke-opacity:1; fill:none\" points=\"1845.17,578.302 1621.56,578.302 2068.77,578.302 1845.17,578.302 1845.17,436.838 1845.17,578.302 \"/>\n",
       "<path clip-path=\"url(#clip752)\" d=\"M2292.38 436.838 L2292.38 332.063 L1397.95 332.063 L1397.95 436.838 L2292.38 436.838 L2292.38 332.063 L2292.38 436.838  Z\" fill=\"#e26f46\" fill-rule=\"evenodd\" fill-opacity=\"1\"/>\n",
       "<polyline clip-path=\"url(#clip752)\" style=\"stroke:#000000; stroke-linecap:round; stroke-linejoin:round; stroke-width:4; stroke-opacity:1; fill:none\" points=\"2292.38,436.838 2292.38,332.063 1397.95,332.063 1397.95,436.838 2292.38,436.838 2292.38,332.063 2292.38,436.838 \"/>\n",
       "<path clip-path=\"url(#clip752)\" d=\"M2292.38 224.652 L1397.95 224.652 L1397.95 332.063 L2292.38 332.063 L2292.38 224.652 L1845.17 224.652 L2292.38 224.652  Z\" fill=\"#e26f46\" fill-rule=\"evenodd\" fill-opacity=\"1\"/>\n",
       "<polyline clip-path=\"url(#clip752)\" style=\"stroke:#000000; stroke-linecap:round; stroke-linejoin:round; stroke-width:4; stroke-opacity:1; fill:none\" points=\"2292.38,224.652 1397.95,224.652 1397.95,332.063 2292.38,332.063 2292.38,224.652 1845.17,224.652 2292.38,224.652 \"/>\n",
       "<path clip-path=\"url(#clip752)\" d=\"M1845.17 87.9763 L1621.56 87.9763 L2068.77 87.9763 L1845.17 87.9763 L1845.17 224.652 L1845.17 87.9763  Z\" fill=\"#e26f46\" fill-rule=\"evenodd\" fill-opacity=\"1\"/>\n",
       "<polyline clip-path=\"url(#clip752)\" style=\"stroke:#000000; stroke-linecap:round; stroke-linejoin:round; stroke-width:4; stroke-opacity:1; fill:none\" points=\"1845.17,87.9763 1621.56,87.9763 2068.77,87.9763 1845.17,87.9763 1845.17,224.652 1845.17,87.9763 \"/>\n",
       "<polyline clip-path=\"url(#clip752)\" style=\"stroke:#e26f46; stroke-linecap:round; stroke-linejoin:round; stroke-width:0; stroke-opacity:1; fill:none\" points=\"1845.17,578.302 1621.56,578.302 2068.77,578.302 1845.17,578.302 1845.17,436.838 \"/>\n",
       "<polyline clip-path=\"url(#clip752)\" style=\"stroke:#e26f46; stroke-linecap:round; stroke-linejoin:round; stroke-width:0; stroke-opacity:1; fill:none\" points=\"2292.38,436.838 2292.38,332.063 1397.95,332.063 1397.95,436.838 2292.38,436.838 2292.38,332.063 \"/>\n",
       "<polyline clip-path=\"url(#clip752)\" style=\"stroke:#e26f46; stroke-linecap:round; stroke-linejoin:round; stroke-width:0; stroke-opacity:1; fill:none\" points=\"2292.38,224.652 1397.95,224.652 1397.95,332.063 2292.38,332.063 2292.38,224.652 1845.17,224.652 \"/>\n",
       "<polyline clip-path=\"url(#clip752)\" style=\"stroke:#e26f46; stroke-linecap:round; stroke-linejoin:round; stroke-width:0; stroke-opacity:1; fill:none\" points=\"1845.17,87.9763 1621.56,87.9763 2068.77,87.9763 1845.17,87.9763 1845.17,224.652 \"/>\n",
       "<path clip-path=\"url(#clip750)\" d=\"M290.649 250.738 L586.123 250.738 L586.123 95.2176 L290.649 95.2176  Z\" fill=\"#ffffff\" fill-rule=\"evenodd\" fill-opacity=\"1\"/>\n",
       "<polyline clip-path=\"url(#clip750)\" style=\"stroke:#000000; stroke-linecap:round; stroke-linejoin:round; stroke-width:4; stroke-opacity:1; fill:none\" points=\"290.649,250.738 586.123,250.738 586.123,95.2176 290.649,95.2176 290.649,250.738 \"/>\n",
       "<path clip-path=\"url(#clip750)\" d=\"M314.352 167.794 L456.566 167.794 L456.566 126.322 L314.352 126.322 L314.352 167.794  Z\" fill=\"#009af9\" fill-rule=\"evenodd\" fill-opacity=\"1\"/>\n",
       "<polyline clip-path=\"url(#clip750)\" style=\"stroke:#000000; stroke-linecap:round; stroke-linejoin:round; stroke-width:4; stroke-opacity:1; fill:none\" points=\"314.352,167.794 456.566,167.794 456.566,126.322 314.352,126.322 314.352,167.794 \"/>\n",
       "<path clip-path=\"url(#clip750)\" d=\"M485.893 160.402 L502.213 160.402 L502.213 164.338 L480.268 164.338 L480.268 160.402 Q482.93 157.648 487.514 153.018 Q492.12 148.365 493.301 147.023 Q495.546 144.5 496.426 142.764 Q497.328 141.004 497.328 139.315 Q497.328 136.56 495.384 134.824 Q493.463 133.088 490.361 133.088 Q488.162 133.088 485.708 133.852 Q483.278 134.615 480.5 136.166 L480.5 131.444 Q483.324 130.31 485.778 129.731 Q488.231 129.153 490.268 129.153 Q495.639 129.153 498.833 131.838 Q502.027 134.523 502.027 139.014 Q502.027 141.143 501.217 143.065 Q500.43 144.963 498.324 147.555 Q497.745 148.227 494.643 151.444 Q491.541 154.639 485.893 160.402 Z\" fill=\"#000000\" fill-rule=\"nonzero\" fill-opacity=\"1\" /><path clip-path=\"url(#clip750)\" d=\"M506.819 129.778 L536.055 129.778 L536.055 133.713 L523.787 133.713 L523.787 164.338 L519.088 164.338 L519.088 133.713 L506.819 133.713 L506.819 129.778 Z\" fill=\"#000000\" fill-rule=\"nonzero\" fill-opacity=\"1\" /><path clip-path=\"url(#clip750)\" d=\"M561.935 138.412 L552.56 151.027 L562.421 164.338 L557.398 164.338 L549.851 154.152 L542.305 164.338 L537.282 164.338 L547.351 150.773 L538.138 138.412 L543.161 138.412 L550.036 147.648 L556.911 138.412 L561.935 138.412 Z\" fill=\"#000000\" fill-rule=\"nonzero\" fill-opacity=\"1\" /><path clip-path=\"url(#clip750)\" d=\"M314.352 219.634 L456.566 219.634 L456.566 178.162 L314.352 178.162 L314.352 219.634  Z\" fill=\"#e26f46\" fill-rule=\"evenodd\" fill-opacity=\"1\"/>\n",
       "<polyline clip-path=\"url(#clip750)\" style=\"stroke:#000000; stroke-linecap:round; stroke-linejoin:round; stroke-width:4; stroke-opacity:1; fill:none\" points=\"314.352,219.634 456.566,219.634 456.566,178.162 314.352,178.162 314.352,219.634 \"/>\n",
       "<path clip-path=\"url(#clip750)\" d=\"M484.551 212.289 L484.551 226.039 L480.268 226.039 L480.268 190.252 L484.551 190.252 L484.551 194.187 Q485.893 191.872 487.93 190.761 Q489.99 189.627 492.838 189.627 Q497.56 189.627 500.5 193.377 Q503.463 197.127 503.463 203.238 Q503.463 209.349 500.5 213.099 Q497.56 216.849 492.838 216.849 Q489.99 216.849 487.93 215.738 Q485.893 214.603 484.551 212.289 M499.041 203.238 Q499.041 198.539 497.097 195.877 Q495.176 193.192 491.796 193.192 Q488.416 193.192 486.472 195.877 Q484.551 198.539 484.551 203.238 Q484.551 207.937 486.472 210.622 Q488.416 213.284 491.796 213.284 Q495.176 213.284 497.097 210.622 Q499.041 207.937 499.041 203.238 Z\" fill=\"#000000\" fill-rule=\"nonzero\" fill-opacity=\"1\" /><path clip-path=\"url(#clip750)\" d=\"M505.916 181.618 L535.152 181.618 L535.152 185.553 L522.884 185.553 L522.884 216.178 L518.185 216.178 L518.185 185.553 L505.916 185.553 L505.916 181.618 Z\" fill=\"#000000\" fill-rule=\"nonzero\" fill-opacity=\"1\" /><path clip-path=\"url(#clip750)\" d=\"M561.032 190.252 L551.657 202.867 L561.518 216.178 L556.495 216.178 L548.949 205.992 L541.402 216.178 L536.379 216.178 L546.449 202.613 L537.236 190.252 L542.259 190.252 L549.134 199.488 L556.009 190.252 L561.032 190.252 Z\" fill=\"#000000\" fill-rule=\"nonzero\" fill-opacity=\"1\" /></svg>\n"
      ],
      "text/html": [
       "<?xml version=\"1.0\" encoding=\"utf-8\"?>\n",
       "<svg xmlns=\"http://www.w3.org/2000/svg\" xmlns:xlink=\"http://www.w3.org/1999/xlink\" width=\"600\" height=\"400\" viewBox=\"0 0 2400 1600\">\n",
       "<defs>\n",
       "  <clipPath id=\"clip800\">\n",
       "    <rect x=\"0\" y=\"0\" width=\"2400\" height=\"1600\"/>\n",
       "  </clipPath>\n",
       "</defs>\n",
       "<path clip-path=\"url(#clip800)\" d=\"M0 1600 L2400 1600 L2400 0 L0 0  Z\" fill=\"#ffffff\" fill-rule=\"evenodd\" fill-opacity=\"1\"/>\n",
       "<defs>\n",
       "  <clipPath id=\"clip801\">\n",
       "    <rect x=\"480\" y=\"0\" width=\"1681\" height=\"1600\"/>\n",
       "  </clipPath>\n",
       "</defs>\n",
       "<path clip-path=\"url(#clip800)\" d=\"M219.542 1486.45 L2352.76 1486.45 L2352.76 47.2441 L219.542 47.2441  Z\" fill=\"#ffffff\" fill-rule=\"evenodd\" fill-opacity=\"1\"/>\n",
       "<defs>\n",
       "  <clipPath id=\"clip802\">\n",
       "    <rect x=\"219\" y=\"47\" width=\"2134\" height=\"1440\"/>\n",
       "  </clipPath>\n",
       "</defs>\n",
       "<polyline clip-path=\"url(#clip802)\" style=\"stroke:#000000; stroke-linecap:round; stroke-linejoin:round; stroke-width:2; stroke-opacity:0.1; fill:none\" points=\"447.622,1486.45 447.622,47.2441 \"/>\n",
       "<polyline clip-path=\"url(#clip802)\" style=\"stroke:#000000; stroke-linecap:round; stroke-linejoin:round; stroke-width:2; stroke-opacity:0.1; fill:none\" points=\"727.131,1486.45 727.131,47.2441 \"/>\n",
       "<polyline clip-path=\"url(#clip802)\" style=\"stroke:#000000; stroke-linecap:round; stroke-linejoin:round; stroke-width:2; stroke-opacity:0.1; fill:none\" points=\"1006.64,1486.45 1006.64,47.2441 \"/>\n",
       "<polyline clip-path=\"url(#clip802)\" style=\"stroke:#000000; stroke-linecap:round; stroke-linejoin:round; stroke-width:2; stroke-opacity:0.1; fill:none\" points=\"1286.15,1486.45 1286.15,47.2441 \"/>\n",
       "<polyline clip-path=\"url(#clip802)\" style=\"stroke:#000000; stroke-linecap:round; stroke-linejoin:round; stroke-width:2; stroke-opacity:0.1; fill:none\" points=\"1565.66,1486.45 1565.66,47.2441 \"/>\n",
       "<polyline clip-path=\"url(#clip802)\" style=\"stroke:#000000; stroke-linecap:round; stroke-linejoin:round; stroke-width:2; stroke-opacity:0.1; fill:none\" points=\"1845.17,1486.45 1845.17,47.2441 \"/>\n",
       "<polyline clip-path=\"url(#clip802)\" style=\"stroke:#000000; stroke-linecap:round; stroke-linejoin:round; stroke-width:2; stroke-opacity:0.1; fill:none\" points=\"2124.68,1486.45 2124.68,47.2441 \"/>\n",
       "<polyline clip-path=\"url(#clip800)\" style=\"stroke:#000000; stroke-linecap:round; stroke-linejoin:round; stroke-width:4; stroke-opacity:1; fill:none\" points=\"219.542,1486.45 2352.76,1486.45 \"/>\n",
       "<polyline clip-path=\"url(#clip800)\" style=\"stroke:#000000; stroke-linecap:round; stroke-linejoin:round; stroke-width:4; stroke-opacity:1; fill:none\" points=\"447.622,1486.45 447.622,1467.55 \"/>\n",
       "<polyline clip-path=\"url(#clip800)\" style=\"stroke:#000000; stroke-linecap:round; stroke-linejoin:round; stroke-width:4; stroke-opacity:1; fill:none\" points=\"727.131,1486.45 727.131,1467.55 \"/>\n",
       "<polyline clip-path=\"url(#clip800)\" style=\"stroke:#000000; stroke-linecap:round; stroke-linejoin:round; stroke-width:4; stroke-opacity:1; fill:none\" points=\"1006.64,1486.45 1006.64,1467.55 \"/>\n",
       "<polyline clip-path=\"url(#clip800)\" style=\"stroke:#000000; stroke-linecap:round; stroke-linejoin:round; stroke-width:4; stroke-opacity:1; fill:none\" points=\"1286.15,1486.45 1286.15,1467.55 \"/>\n",
       "<polyline clip-path=\"url(#clip800)\" style=\"stroke:#000000; stroke-linecap:round; stroke-linejoin:round; stroke-width:4; stroke-opacity:1; fill:none\" points=\"1565.66,1486.45 1565.66,1467.55 \"/>\n",
       "<polyline clip-path=\"url(#clip800)\" style=\"stroke:#000000; stroke-linecap:round; stroke-linejoin:round; stroke-width:4; stroke-opacity:1; fill:none\" points=\"1845.17,1486.45 1845.17,1467.55 \"/>\n",
       "<polyline clip-path=\"url(#clip800)\" style=\"stroke:#000000; stroke-linecap:round; stroke-linejoin:round; stroke-width:4; stroke-opacity:1; fill:none\" points=\"2124.68,1486.45 2124.68,1467.55 \"/>\n",
       "<path clip-path=\"url(#clip800)\" d=\"M410.423 1517.37 Q406.812 1517.37 404.983 1520.93 Q403.177 1524.47 403.177 1531.6 Q403.177 1538.71 404.983 1542.27 Q406.812 1545.82 410.423 1545.82 Q414.057 1545.82 415.863 1542.27 Q417.691 1538.71 417.691 1531.6 Q417.691 1524.47 415.863 1520.93 Q414.057 1517.37 410.423 1517.37 M410.423 1513.66 Q416.233 1513.66 419.288 1518.27 Q422.367 1522.85 422.367 1531.6 Q422.367 1540.33 419.288 1544.94 Q416.233 1549.52 410.423 1549.52 Q404.613 1549.52 401.534 1544.94 Q398.478 1540.33 398.478 1531.6 Q398.478 1522.85 401.534 1518.27 Q404.613 1513.66 410.423 1513.66 Z\" fill=\"#000000\" fill-rule=\"nonzero\" fill-opacity=\"1\" /><path clip-path=\"url(#clip800)\" d=\"M430.585 1542.97 L435.469 1542.97 L435.469 1548.85 L430.585 1548.85 L430.585 1542.97 Z\" fill=\"#000000\" fill-rule=\"nonzero\" fill-opacity=\"1\" /><path clip-path=\"url(#clip800)\" d=\"M444.474 1514.29 L466.696 1514.29 L466.696 1516.28 L454.149 1548.85 L449.265 1548.85 L461.071 1518.22 L444.474 1518.22 L444.474 1514.29 Z\" fill=\"#000000\" fill-rule=\"nonzero\" fill-opacity=\"1\" /><path clip-path=\"url(#clip800)\" d=\"M475.862 1514.29 L494.219 1514.29 L494.219 1518.22 L480.145 1518.22 L480.145 1526.7 Q481.163 1526.35 482.182 1526.19 Q483.2 1526 484.219 1526 Q490.006 1526 493.385 1529.17 Q496.765 1532.34 496.765 1537.76 Q496.765 1543.34 493.293 1546.44 Q489.82 1549.52 483.501 1549.52 Q481.325 1549.52 479.057 1549.15 Q476.811 1548.78 474.404 1548.04 L474.404 1543.34 Q476.487 1544.47 478.709 1545.03 Q480.932 1545.58 483.408 1545.58 Q487.413 1545.58 489.751 1543.48 Q492.089 1541.37 492.089 1537.76 Q492.089 1534.15 489.751 1532.04 Q487.413 1529.94 483.408 1529.94 Q481.534 1529.94 479.659 1530.35 Q477.807 1530.77 475.862 1531.65 L475.862 1514.29 Z\" fill=\"#000000\" fill-rule=\"nonzero\" fill-opacity=\"1\" /><path clip-path=\"url(#clip800)\" d=\"M679.203 1544.91 L686.842 1544.91 L686.842 1518.55 L678.532 1520.21 L678.532 1515.95 L686.795 1514.29 L691.471 1514.29 L691.471 1544.91 L699.11 1544.91 L699.11 1548.85 L679.203 1548.85 L679.203 1544.91 Z\" fill=\"#000000\" fill-rule=\"nonzero\" fill-opacity=\"1\" /><path clip-path=\"url(#clip800)\" d=\"M708.554 1542.97 L713.439 1542.97 L713.439 1548.85 L708.554 1548.85 L708.554 1542.97 Z\" fill=\"#000000\" fill-rule=\"nonzero\" fill-opacity=\"1\" /><path clip-path=\"url(#clip800)\" d=\"M733.624 1517.37 Q730.013 1517.37 728.184 1520.93 Q726.378 1524.47 726.378 1531.6 Q726.378 1538.71 728.184 1542.27 Q730.013 1545.82 733.624 1545.82 Q737.258 1545.82 739.064 1542.27 Q740.892 1538.71 740.892 1531.6 Q740.892 1524.47 739.064 1520.93 Q737.258 1517.37 733.624 1517.37 M733.624 1513.66 Q739.434 1513.66 742.489 1518.27 Q745.568 1522.85 745.568 1531.6 Q745.568 1540.33 742.489 1544.94 Q739.434 1549.52 733.624 1549.52 Q727.814 1549.52 724.735 1544.94 Q721.679 1540.33 721.679 1531.6 Q721.679 1522.85 724.735 1518.27 Q727.814 1513.66 733.624 1513.66 Z\" fill=\"#000000\" fill-rule=\"nonzero\" fill-opacity=\"1\" /><path clip-path=\"url(#clip800)\" d=\"M763.786 1517.37 Q760.175 1517.37 758.346 1520.93 Q756.54 1524.47 756.54 1531.6 Q756.54 1538.71 758.346 1542.27 Q760.175 1545.82 763.786 1545.82 Q767.42 1545.82 769.225 1542.27 Q771.054 1538.71 771.054 1531.6 Q771.054 1524.47 769.225 1520.93 Q767.42 1517.37 763.786 1517.37 M763.786 1513.66 Q769.596 1513.66 772.651 1518.27 Q775.73 1522.85 775.73 1531.6 Q775.73 1540.33 772.651 1544.94 Q769.596 1549.52 763.786 1549.52 Q757.976 1549.52 754.897 1544.94 Q751.841 1540.33 751.841 1531.6 Q751.841 1522.85 754.897 1518.27 Q757.976 1513.66 763.786 1513.66 Z\" fill=\"#000000\" fill-rule=\"nonzero\" fill-opacity=\"1\" /><path clip-path=\"url(#clip800)\" d=\"M959.21 1544.91 L966.848 1544.91 L966.848 1518.55 L958.538 1520.21 L958.538 1515.95 L966.802 1514.29 L971.478 1514.29 L971.478 1544.91 L979.117 1544.91 L979.117 1548.85 L959.21 1548.85 L959.21 1544.91 Z\" fill=\"#000000\" fill-rule=\"nonzero\" fill-opacity=\"1\" /><path clip-path=\"url(#clip800)\" d=\"M988.561 1542.97 L993.446 1542.97 L993.446 1548.85 L988.561 1548.85 L988.561 1542.97 Z\" fill=\"#000000\" fill-rule=\"nonzero\" fill-opacity=\"1\" /><path clip-path=\"url(#clip800)\" d=\"M1007.66 1544.91 L1023.98 1544.91 L1023.98 1548.85 L1002.03 1548.85 L1002.03 1544.91 Q1004.7 1542.16 1009.28 1537.53 Q1013.89 1532.88 1015.07 1531.53 Q1017.31 1529.01 1018.19 1527.27 Q1019.09 1525.51 1019.09 1523.82 Q1019.09 1521.07 1017.15 1519.33 Q1015.23 1517.6 1012.13 1517.6 Q1009.93 1517.6 1007.47 1518.36 Q1005.04 1519.13 1002.26 1520.68 L1002.26 1515.95 Q1005.09 1514.82 1007.54 1514.24 Q1010 1513.66 1012.03 1513.66 Q1017.4 1513.66 1020.6 1516.35 Q1023.79 1519.03 1023.79 1523.52 Q1023.79 1525.65 1022.98 1527.57 Q1022.2 1529.47 1020.09 1532.07 Q1019.51 1532.74 1016.41 1535.95 Q1013.31 1539.15 1007.66 1544.91 Z\" fill=\"#000000\" fill-rule=\"nonzero\" fill-opacity=\"1\" /><path clip-path=\"url(#clip800)\" d=\"M1033.84 1514.29 L1052.2 1514.29 L1052.2 1518.22 L1038.12 1518.22 L1038.12 1526.7 Q1039.14 1526.35 1040.16 1526.19 Q1041.18 1526 1042.2 1526 Q1047.98 1526 1051.36 1529.17 Q1054.74 1532.34 1054.74 1537.76 Q1054.74 1543.34 1051.27 1546.44 Q1047.8 1549.52 1041.48 1549.52 Q1039.3 1549.52 1037.03 1549.15 Q1034.79 1548.78 1032.38 1548.04 L1032.38 1543.34 Q1034.46 1544.47 1036.69 1545.03 Q1038.91 1545.58 1041.39 1545.58 Q1045.39 1545.58 1047.73 1543.48 Q1050.07 1541.37 1050.07 1537.76 Q1050.07 1534.15 1047.73 1532.04 Q1045.39 1529.94 1041.39 1529.94 Q1039.51 1529.94 1037.64 1530.35 Q1035.78 1530.77 1033.84 1531.65 L1033.84 1514.29 Z\" fill=\"#000000\" fill-rule=\"nonzero\" fill-opacity=\"1\" /><path clip-path=\"url(#clip800)\" d=\"M1238.22 1544.91 L1245.86 1544.91 L1245.86 1518.55 L1237.55 1520.21 L1237.55 1515.95 L1245.81 1514.29 L1250.49 1514.29 L1250.49 1544.91 L1258.13 1544.91 L1258.13 1548.85 L1238.22 1548.85 L1238.22 1544.91 Z\" fill=\"#000000\" fill-rule=\"nonzero\" fill-opacity=\"1\" /><path clip-path=\"url(#clip800)\" d=\"M1267.57 1542.97 L1272.46 1542.97 L1272.46 1548.85 L1267.57 1548.85 L1267.57 1542.97 Z\" fill=\"#000000\" fill-rule=\"nonzero\" fill-opacity=\"1\" /><path clip-path=\"url(#clip800)\" d=\"M1282.69 1514.29 L1301.04 1514.29 L1301.04 1518.22 L1286.97 1518.22 L1286.97 1526.7 Q1287.99 1526.35 1289.01 1526.19 Q1290.03 1526 1291.04 1526 Q1296.83 1526 1300.21 1529.17 Q1303.59 1532.34 1303.59 1537.76 Q1303.59 1543.34 1300.12 1546.44 Q1296.65 1549.52 1290.33 1549.52 Q1288.15 1549.52 1285.88 1549.15 Q1283.64 1548.78 1281.23 1548.04 L1281.23 1543.34 Q1283.31 1544.47 1285.54 1545.03 Q1287.76 1545.58 1290.23 1545.58 Q1294.24 1545.58 1296.58 1543.48 Q1298.92 1541.37 1298.92 1537.76 Q1298.92 1534.15 1296.58 1532.04 Q1294.24 1529.94 1290.23 1529.94 Q1288.36 1529.94 1286.48 1530.35 Q1284.63 1530.77 1282.69 1531.65 L1282.69 1514.29 Z\" fill=\"#000000\" fill-rule=\"nonzero\" fill-opacity=\"1\" /><path clip-path=\"url(#clip800)\" d=\"M1322.8 1517.37 Q1319.19 1517.37 1317.36 1520.93 Q1315.56 1524.47 1315.56 1531.6 Q1315.56 1538.71 1317.36 1542.27 Q1319.19 1545.82 1322.8 1545.82 Q1326.44 1545.82 1328.24 1542.27 Q1330.07 1538.71 1330.07 1531.6 Q1330.07 1524.47 1328.24 1520.93 Q1326.44 1517.37 1322.8 1517.37 M1322.8 1513.66 Q1328.61 1513.66 1331.67 1518.27 Q1334.75 1522.85 1334.75 1531.6 Q1334.75 1540.33 1331.67 1544.94 Q1328.61 1549.52 1322.8 1549.52 Q1316.99 1549.52 1313.92 1544.94 Q1310.86 1540.33 1310.86 1531.6 Q1310.86 1522.85 1313.92 1518.27 Q1316.99 1513.66 1322.8 1513.66 Z\" fill=\"#000000\" fill-rule=\"nonzero\" fill-opacity=\"1\" /><path clip-path=\"url(#clip800)\" d=\"M1518.23 1544.91 L1525.87 1544.91 L1525.87 1518.55 L1517.56 1520.21 L1517.56 1515.95 L1525.82 1514.29 L1530.5 1514.29 L1530.5 1544.91 L1538.14 1544.91 L1538.14 1548.85 L1518.23 1548.85 L1518.23 1544.91 Z\" fill=\"#000000\" fill-rule=\"nonzero\" fill-opacity=\"1\" /><path clip-path=\"url(#clip800)\" d=\"M1547.58 1542.97 L1552.46 1542.97 L1552.46 1548.85 L1547.58 1548.85 L1547.58 1542.97 Z\" fill=\"#000000\" fill-rule=\"nonzero\" fill-opacity=\"1\" /><path clip-path=\"url(#clip800)\" d=\"M1561.47 1514.29 L1583.69 1514.29 L1583.69 1516.28 L1571.14 1548.85 L1566.26 1548.85 L1578.07 1518.22 L1561.47 1518.22 L1561.47 1514.29 Z\" fill=\"#000000\" fill-rule=\"nonzero\" fill-opacity=\"1\" /><path clip-path=\"url(#clip800)\" d=\"M1592.86 1514.29 L1611.21 1514.29 L1611.21 1518.22 L1597.14 1518.22 L1597.14 1526.7 Q1598.16 1526.35 1599.18 1526.19 Q1600.2 1526 1601.21 1526 Q1607 1526 1610.38 1529.17 Q1613.76 1532.34 1613.76 1537.76 Q1613.76 1543.34 1610.29 1546.44 Q1606.82 1549.52 1600.5 1549.52 Q1598.32 1549.52 1596.05 1549.15 Q1593.81 1548.78 1591.4 1548.04 L1591.4 1543.34 Q1593.48 1544.47 1595.7 1545.03 Q1597.93 1545.58 1600.4 1545.58 Q1604.41 1545.58 1606.75 1543.48 Q1609.08 1541.37 1609.08 1537.76 Q1609.08 1534.15 1606.75 1532.04 Q1604.41 1529.94 1600.4 1529.94 Q1598.53 1529.94 1596.65 1530.35 Q1594.8 1530.77 1592.86 1531.65 L1592.86 1514.29 Z\" fill=\"#000000\" fill-rule=\"nonzero\" fill-opacity=\"1\" /><path clip-path=\"url(#clip800)\" d=\"M1801.32 1544.91 L1817.64 1544.91 L1817.64 1548.85 L1795.7 1548.85 L1795.7 1544.91 Q1798.36 1542.16 1802.95 1537.53 Q1807.55 1532.88 1808.73 1531.53 Q1810.98 1529.01 1811.86 1527.27 Q1812.76 1525.51 1812.76 1523.82 Q1812.76 1521.07 1810.82 1519.33 Q1808.89 1517.6 1805.79 1517.6 Q1803.59 1517.6 1801.14 1518.36 Q1798.71 1519.13 1795.93 1520.68 L1795.93 1515.95 Q1798.76 1514.82 1801.21 1514.24 Q1803.66 1513.66 1805.7 1513.66 Q1811.07 1513.66 1814.26 1516.35 Q1817.46 1519.03 1817.46 1523.52 Q1817.46 1525.65 1816.65 1527.57 Q1815.86 1529.47 1813.76 1532.07 Q1813.18 1532.74 1810.07 1535.95 Q1806.97 1539.15 1801.32 1544.91 Z\" fill=\"#000000\" fill-rule=\"nonzero\" fill-opacity=\"1\" /><path clip-path=\"url(#clip800)\" d=\"M1827.46 1542.97 L1832.34 1542.97 L1832.34 1548.85 L1827.46 1548.85 L1827.46 1542.97 Z\" fill=\"#000000\" fill-rule=\"nonzero\" fill-opacity=\"1\" /><path clip-path=\"url(#clip800)\" d=\"M1852.53 1517.37 Q1848.92 1517.37 1847.09 1520.93 Q1845.28 1524.47 1845.28 1531.6 Q1845.28 1538.71 1847.09 1542.27 Q1848.92 1545.82 1852.53 1545.82 Q1856.16 1545.82 1857.97 1542.27 Q1859.8 1538.71 1859.8 1531.6 Q1859.8 1524.47 1857.97 1520.93 Q1856.16 1517.37 1852.53 1517.37 M1852.53 1513.66 Q1858.34 1513.66 1861.39 1518.27 Q1864.47 1522.85 1864.47 1531.6 Q1864.47 1540.33 1861.39 1544.94 Q1858.34 1549.52 1852.53 1549.52 Q1846.72 1549.52 1843.64 1544.94 Q1840.58 1540.33 1840.58 1531.6 Q1840.58 1522.85 1843.64 1518.27 Q1846.72 1513.66 1852.53 1513.66 Z\" fill=\"#000000\" fill-rule=\"nonzero\" fill-opacity=\"1\" /><path clip-path=\"url(#clip800)\" d=\"M1882.69 1517.37 Q1879.08 1517.37 1877.25 1520.93 Q1875.44 1524.47 1875.44 1531.6 Q1875.44 1538.71 1877.25 1542.27 Q1879.08 1545.82 1882.69 1545.82 Q1886.32 1545.82 1888.13 1542.27 Q1889.96 1538.71 1889.96 1531.6 Q1889.96 1524.47 1888.13 1520.93 Q1886.32 1517.37 1882.69 1517.37 M1882.69 1513.66 Q1888.5 1513.66 1891.56 1518.27 Q1894.63 1522.85 1894.63 1531.6 Q1894.63 1540.33 1891.56 1544.94 Q1888.5 1549.52 1882.69 1549.52 Q1876.88 1549.52 1873.8 1544.94 Q1870.75 1540.33 1870.75 1531.6 Q1870.75 1522.85 1873.8 1518.27 Q1876.88 1513.66 1882.69 1513.66 Z\" fill=\"#000000\" fill-rule=\"nonzero\" fill-opacity=\"1\" /><path clip-path=\"url(#clip800)\" d=\"M2081.33 1544.91 L2097.65 1544.91 L2097.65 1548.85 L2075.71 1548.85 L2075.71 1544.91 Q2078.37 1542.16 2082.95 1537.53 Q2087.56 1532.88 2088.74 1531.53 Q2090.98 1529.01 2091.86 1527.27 Q2092.77 1525.51 2092.77 1523.82 Q2092.77 1521.07 2090.82 1519.33 Q2088.9 1517.6 2085.8 1517.6 Q2083.6 1517.6 2081.15 1518.36 Q2078.72 1519.13 2075.94 1520.68 L2075.94 1515.95 Q2078.76 1514.82 2081.22 1514.24 Q2083.67 1513.66 2085.71 1513.66 Q2091.08 1513.66 2094.27 1516.35 Q2097.47 1519.03 2097.47 1523.52 Q2097.47 1525.65 2096.66 1527.57 Q2095.87 1529.47 2093.76 1532.07 Q2093.18 1532.74 2090.08 1535.95 Q2086.98 1539.15 2081.33 1544.91 Z\" fill=\"#000000\" fill-rule=\"nonzero\" fill-opacity=\"1\" /><path clip-path=\"url(#clip800)\" d=\"M2107.47 1542.97 L2112.35 1542.97 L2112.35 1548.85 L2107.47 1548.85 L2107.47 1542.97 Z\" fill=\"#000000\" fill-rule=\"nonzero\" fill-opacity=\"1\" /><path clip-path=\"url(#clip800)\" d=\"M2126.56 1544.91 L2142.88 1544.91 L2142.88 1548.85 L2120.94 1548.85 L2120.94 1544.91 Q2123.6 1542.16 2128.18 1537.53 Q2132.79 1532.88 2133.97 1531.53 Q2136.22 1529.01 2137.1 1527.27 Q2138 1525.51 2138 1523.82 Q2138 1521.07 2136.05 1519.33 Q2134.13 1517.6 2131.03 1517.6 Q2128.83 1517.6 2126.38 1518.36 Q2123.95 1519.13 2121.17 1520.68 L2121.17 1515.95 Q2123.99 1514.82 2126.45 1514.24 Q2128.9 1513.66 2130.94 1513.66 Q2136.31 1513.66 2139.5 1516.35 Q2142.7 1519.03 2142.7 1523.52 Q2142.7 1525.65 2141.89 1527.57 Q2141.1 1529.47 2138.99 1532.07 Q2138.41 1532.74 2135.31 1535.95 Q2132.21 1539.15 2126.56 1544.91 Z\" fill=\"#000000\" fill-rule=\"nonzero\" fill-opacity=\"1\" /><path clip-path=\"url(#clip800)\" d=\"M2152.74 1514.29 L2171.1 1514.29 L2171.1 1518.22 L2157.03 1518.22 L2157.03 1526.7 Q2158.04 1526.35 2159.06 1526.19 Q2160.08 1526 2161.1 1526 Q2166.89 1526 2170.27 1529.17 Q2173.65 1532.34 2173.65 1537.76 Q2173.65 1543.34 2170.17 1546.44 Q2166.7 1549.52 2160.38 1549.52 Q2158.21 1549.52 2155.94 1549.15 Q2153.69 1548.78 2151.29 1548.04 L2151.29 1543.34 Q2153.37 1544.47 2155.59 1545.03 Q2157.81 1545.58 2160.29 1545.58 Q2164.29 1545.58 2166.63 1543.48 Q2168.97 1541.37 2168.97 1537.76 Q2168.97 1534.15 2166.63 1532.04 Q2164.29 1529.94 2160.29 1529.94 Q2158.41 1529.94 2156.54 1530.35 Q2154.69 1530.77 2152.74 1531.65 L2152.74 1514.29 Z\" fill=\"#000000\" fill-rule=\"nonzero\" fill-opacity=\"1\" /><polyline clip-path=\"url(#clip802)\" style=\"stroke:#000000; stroke-linecap:round; stroke-linejoin:round; stroke-width:2; stroke-opacity:0.1; fill:none\" points=\"219.542,1338.18 2352.76,1338.18 \"/>\n",
       "<polyline clip-path=\"url(#clip802)\" style=\"stroke:#000000; stroke-linecap:round; stroke-linejoin:round; stroke-width:2; stroke-opacity:0.1; fill:none\" points=\"219.542,976.324 2352.76,976.324 \"/>\n",
       "<polyline clip-path=\"url(#clip802)\" style=\"stroke:#000000; stroke-linecap:round; stroke-linejoin:round; stroke-width:2; stroke-opacity:0.1; fill:none\" points=\"219.542,614.463 2352.76,614.463 \"/>\n",
       "<polyline clip-path=\"url(#clip802)\" style=\"stroke:#000000; stroke-linecap:round; stroke-linejoin:round; stroke-width:2; stroke-opacity:0.1; fill:none\" points=\"219.542,252.603 2352.76,252.603 \"/>\n",
       "<polyline clip-path=\"url(#clip800)\" style=\"stroke:#000000; stroke-linecap:round; stroke-linejoin:round; stroke-width:4; stroke-opacity:1; fill:none\" points=\"219.542,1486.45 219.542,47.2441 \"/>\n",
       "<polyline clip-path=\"url(#clip800)\" style=\"stroke:#000000; stroke-linecap:round; stroke-linejoin:round; stroke-width:4; stroke-opacity:1; fill:none\" points=\"219.542,1338.18 238.44,1338.18 \"/>\n",
       "<polyline clip-path=\"url(#clip800)\" style=\"stroke:#000000; stroke-linecap:round; stroke-linejoin:round; stroke-width:4; stroke-opacity:1; fill:none\" points=\"219.542,976.324 238.44,976.324 \"/>\n",
       "<polyline clip-path=\"url(#clip800)\" style=\"stroke:#000000; stroke-linecap:round; stroke-linejoin:round; stroke-width:4; stroke-opacity:1; fill:none\" points=\"219.542,614.463 238.44,614.463 \"/>\n",
       "<polyline clip-path=\"url(#clip800)\" style=\"stroke:#000000; stroke-linecap:round; stroke-linejoin:round; stroke-width:4; stroke-opacity:1; fill:none\" points=\"219.542,252.603 238.44,252.603 \"/>\n",
       "<path clip-path=\"url(#clip800)\" d=\"M126.205 1323.98 Q122.593 1323.98 120.765 1327.55 Q118.959 1331.09 118.959 1338.22 Q118.959 1345.33 120.765 1348.89 Q122.593 1352.43 126.205 1352.43 Q129.839 1352.43 131.644 1348.89 Q133.473 1345.33 133.473 1338.22 Q133.473 1331.09 131.644 1327.55 Q129.839 1323.98 126.205 1323.98 M126.205 1320.28 Q132.015 1320.28 135.07 1324.89 Q138.149 1329.47 138.149 1338.22 Q138.149 1346.95 135.07 1351.55 Q132.015 1356.14 126.205 1356.14 Q120.394 1356.14 117.316 1351.55 Q114.26 1346.95 114.26 1338.22 Q114.26 1329.47 117.316 1324.89 Q120.394 1320.28 126.205 1320.28 Z\" fill=\"#000000\" fill-rule=\"nonzero\" fill-opacity=\"1\" /><path clip-path=\"url(#clip800)\" d=\"M146.366 1349.59 L151.251 1349.59 L151.251 1355.46 L146.366 1355.46 L146.366 1349.59 Z\" fill=\"#000000\" fill-rule=\"nonzero\" fill-opacity=\"1\" /><path clip-path=\"url(#clip800)\" d=\"M172.014 1336.32 Q168.866 1336.32 167.015 1338.47 Q165.186 1340.63 165.186 1344.38 Q165.186 1348.1 167.015 1350.28 Q168.866 1352.43 172.014 1352.43 Q175.163 1352.43 176.991 1350.28 Q178.843 1348.1 178.843 1344.38 Q178.843 1340.63 176.991 1338.47 Q175.163 1336.32 172.014 1336.32 M181.297 1321.67 L181.297 1325.93 Q179.538 1325.09 177.732 1324.65 Q175.95 1324.22 174.19 1324.22 Q169.561 1324.22 167.107 1327.34 Q164.677 1330.47 164.329 1336.78 Q165.695 1334.77 167.755 1333.71 Q169.815 1332.62 172.292 1332.62 Q177.501 1332.62 180.51 1335.79 Q183.542 1338.94 183.542 1344.38 Q183.542 1349.7 180.394 1352.92 Q177.246 1356.14 172.014 1356.14 Q166.019 1356.14 162.848 1351.55 Q159.677 1346.95 159.677 1338.22 Q159.677 1330.03 163.565 1325.16 Q167.454 1320.28 174.005 1320.28 Q175.764 1320.28 177.547 1320.63 Q179.352 1320.97 181.297 1321.67 Z\" fill=\"#000000\" fill-rule=\"nonzero\" fill-opacity=\"1\" /><path clip-path=\"url(#clip800)\" d=\"M126.459 962.123 Q122.848 962.123 121.019 965.688 Q119.214 969.229 119.214 976.359 Q119.214 983.465 121.019 987.03 Q122.848 990.572 126.459 990.572 Q130.093 990.572 131.899 987.03 Q133.728 983.465 133.728 976.359 Q133.728 969.229 131.899 965.688 Q130.093 962.123 126.459 962.123 M126.459 958.419 Q132.269 958.419 135.325 963.026 Q138.404 967.609 138.404 976.359 Q138.404 985.086 135.325 989.692 Q132.269 994.275 126.459 994.275 Q120.649 994.275 117.57 989.692 Q114.515 985.086 114.515 976.359 Q114.515 967.609 117.57 963.026 Q120.649 958.419 126.459 958.419 Z\" fill=\"#000000\" fill-rule=\"nonzero\" fill-opacity=\"1\" /><path clip-path=\"url(#clip800)\" d=\"M146.621 987.725 L151.505 987.725 L151.505 993.604 L146.621 993.604 L146.621 987.725 Z\" fill=\"#000000\" fill-rule=\"nonzero\" fill-opacity=\"1\" /><path clip-path=\"url(#clip800)\" d=\"M171.69 977.192 Q168.357 977.192 166.436 978.975 Q164.538 980.757 164.538 983.882 Q164.538 987.007 166.436 988.789 Q168.357 990.572 171.69 990.572 Q175.024 990.572 176.945 988.789 Q178.866 986.984 178.866 983.882 Q178.866 980.757 176.945 978.975 Q175.047 977.192 171.69 977.192 M167.015 975.201 Q164.005 974.461 162.315 972.401 Q160.649 970.34 160.649 967.377 Q160.649 963.234 163.589 960.827 Q166.552 958.419 171.69 958.419 Q176.852 958.419 179.792 960.827 Q182.732 963.234 182.732 967.377 Q182.732 970.34 181.042 972.401 Q179.376 974.461 176.389 975.201 Q179.769 975.989 181.644 978.28 Q183.542 980.572 183.542 983.882 Q183.542 988.905 180.464 991.59 Q177.408 994.275 171.69 994.275 Q165.973 994.275 162.894 991.59 Q159.839 988.905 159.839 983.882 Q159.839 980.572 161.737 978.28 Q163.635 975.989 167.015 975.201 M165.302 967.817 Q165.302 970.502 166.968 972.007 Q168.658 973.512 171.69 973.512 Q174.7 973.512 176.389 972.007 Q178.102 970.502 178.102 967.817 Q178.102 965.132 176.389 963.627 Q174.7 962.123 171.69 962.123 Q168.658 962.123 166.968 963.627 Q165.302 965.132 165.302 967.817 Z\" fill=\"#000000\" fill-rule=\"nonzero\" fill-opacity=\"1\" /><path clip-path=\"url(#clip800)\" d=\"M117.177 627.808 L124.816 627.808 L124.816 601.443 L116.506 603.109 L116.506 598.85 L124.769 597.183 L129.445 597.183 L129.445 627.808 L137.084 627.808 L137.084 631.743 L117.177 631.743 L117.177 627.808 Z\" fill=\"#000000\" fill-rule=\"nonzero\" fill-opacity=\"1\" /><path clip-path=\"url(#clip800)\" d=\"M146.529 625.864 L151.413 625.864 L151.413 631.743 L146.529 631.743 L146.529 625.864 Z\" fill=\"#000000\" fill-rule=\"nonzero\" fill-opacity=\"1\" /><path clip-path=\"url(#clip800)\" d=\"M171.598 600.262 Q167.987 600.262 166.158 603.827 Q164.352 607.369 164.352 614.498 Q164.352 621.605 166.158 625.169 Q167.987 628.711 171.598 628.711 Q175.232 628.711 177.038 625.169 Q178.866 621.605 178.866 614.498 Q178.866 607.369 177.038 603.827 Q175.232 600.262 171.598 600.262 M171.598 596.558 Q177.408 596.558 180.464 601.165 Q183.542 605.748 183.542 614.498 Q183.542 623.225 180.464 627.831 Q177.408 632.415 171.598 632.415 Q165.788 632.415 162.709 627.831 Q159.653 623.225 159.653 614.498 Q159.653 605.748 162.709 601.165 Q165.788 596.558 171.598 596.558 Z\" fill=\"#000000\" fill-rule=\"nonzero\" fill-opacity=\"1\" /><path clip-path=\"url(#clip800)\" d=\"M118.774 265.948 L126.413 265.948 L126.413 239.582 L118.103 241.249 L118.103 236.989 L126.367 235.323 L131.042 235.323 L131.042 265.948 L138.681 265.948 L138.681 269.883 L118.774 269.883 L118.774 265.948 Z\" fill=\"#000000\" fill-rule=\"nonzero\" fill-opacity=\"1\" /><path clip-path=\"url(#clip800)\" d=\"M148.126 264.003 L153.01 264.003 L153.01 269.883 L148.126 269.883 L148.126 264.003 Z\" fill=\"#000000\" fill-rule=\"nonzero\" fill-opacity=\"1\" /><path clip-path=\"url(#clip800)\" d=\"M167.223 265.948 L183.542 265.948 L183.542 269.883 L161.598 269.883 L161.598 265.948 Q164.26 263.193 168.843 258.563 Q173.45 253.911 174.63 252.568 Q176.876 250.045 177.755 248.309 Q178.658 246.55 178.658 244.86 Q178.658 242.105 176.714 240.369 Q174.792 238.633 171.69 238.633 Q169.491 238.633 167.038 239.397 Q164.607 240.161 161.829 241.712 L161.829 236.989 Q164.653 235.855 167.107 235.276 Q169.561 234.698 171.598 234.698 Q176.968 234.698 180.163 237.383 Q183.357 240.068 183.357 244.559 Q183.357 246.688 182.547 248.61 Q181.76 250.508 179.653 253.1 Q179.075 253.772 175.973 256.989 Q172.871 260.184 167.223 265.948 Z\" fill=\"#000000\" fill-rule=\"nonzero\" fill-opacity=\"1\" /><path clip-path=\"url(#clip800)\" d=\"M20.1444 795.539 L26.9239 795.539 Q23.9002 798.786 22.4043 802.478 Q20.9083 806.138 20.9083 810.276 Q20.9083 818.424 25.9054 822.753 Q30.8707 827.081 40.2919 827.081 Q49.6813 827.081 54.6784 822.753 Q59.6436 818.424 59.6436 810.276 Q59.6436 806.138 58.1477 802.478 Q56.6518 798.786 53.6281 795.539 L60.3439 795.539 Q62.6355 798.913 63.7814 802.701 Q64.9272 806.457 64.9272 810.658 Q64.9272 821.448 58.3387 827.654 Q51.7183 833.861 40.2919 833.861 Q28.8336 833.861 22.2451 827.654 Q15.6248 821.448 15.6248 810.658 Q15.6248 806.393 16.7706 802.637 Q17.8846 798.85 20.1444 795.539 Z\" fill=\"#000000\" fill-rule=\"nonzero\" fill-opacity=\"1\" /><path clip-path=\"url(#clip800)\" d=\"M16.4842 785.609 L16.4842 776.952 L56.238 755.881 L16.4842 755.881 L16.4842 749.643 L64.0042 749.643 L64.0042 758.3 L24.2503 779.371 L64.0042 779.371 L64.0042 785.609 L16.4842 785.609 Z\" fill=\"#000000\" fill-rule=\"nonzero\" fill-opacity=\"1\" /><path clip-path=\"url(#clip800)\" d=\"M41.7242 714.313 Q42.4244 712.244 44.7161 710.303 Q47.0077 708.329 51.0181 706.356 L64.0042 699.831 L64.0042 706.738 L51.8138 712.817 Q47.0395 715.172 45.48 717.4 Q43.9204 719.597 43.9204 723.416 L43.9204 730.418 L64.0042 730.418 L64.0042 736.848 L16.4842 736.848 L16.4842 722.334 Q16.4842 714.186 19.8898 710.175 Q23.2955 706.165 30.1704 706.165 Q34.6582 706.165 37.6183 708.266 Q40.5784 710.334 41.7242 714.313 M21.7677 730.418 L38.6368 730.418 L38.6368 722.334 Q38.6368 717.687 36.5043 715.332 Q34.34 712.944 30.1704 712.944 Q26.0009 712.944 23.9002 715.332 Q21.7677 717.687 21.7677 722.334 L21.7677 730.418 Z\" fill=\"#000000\" fill-rule=\"nonzero\" fill-opacity=\"1\" /><path clip-path=\"url(#clip802)\" d=\"M727.131 1445.72 L503.523 1445.72 L950.738 1445.72 L727.131 1445.72 L727.131 1418.84 L727.131 1445.72  Z\" fill=\"#009af9\" fill-rule=\"evenodd\" fill-opacity=\"1\"/>\n",
       "<polyline clip-path=\"url(#clip802)\" style=\"stroke:#000000; stroke-linecap:round; stroke-linejoin:round; stroke-width:4; stroke-opacity:1; fill:none\" points=\"727.131,1445.72 503.523,1445.72 950.738,1445.72 727.131,1445.72 727.131,1418.84 727.131,1445.72 \"/>\n",
       "<path clip-path=\"url(#clip802)\" d=\"M1174.35 1418.84 L1174.35 1328 L279.916 1328 L279.916 1418.84 L1174.35 1418.84 L1174.35 1328 L1174.35 1418.84  Z\" fill=\"#009af9\" fill-rule=\"evenodd\" fill-opacity=\"1\"/>\n",
       "<polyline clip-path=\"url(#clip802)\" style=\"stroke:#000000; stroke-linecap:round; stroke-linejoin:round; stroke-width:4; stroke-opacity:1; fill:none\" points=\"1174.35,1418.84 1174.35,1328 279.916,1328 279.916,1418.84 1174.35,1418.84 1174.35,1328 1174.35,1418.84 \"/>\n",
       "<path clip-path=\"url(#clip802)\" d=\"M1174.35 1148.14 L279.916 1148.14 L279.916 1328 L1174.35 1328 L1174.35 1148.14 L727.131 1148.14 L1174.35 1148.14  Z\" fill=\"#009af9\" fill-rule=\"evenodd\" fill-opacity=\"1\"/>\n",
       "<polyline clip-path=\"url(#clip802)\" style=\"stroke:#000000; stroke-linecap:round; stroke-linejoin:round; stroke-width:4; stroke-opacity:1; fill:none\" points=\"1174.35,1148.14 279.916,1148.14 279.916,1328 1174.35,1328 1174.35,1148.14 727.131,1148.14 1174.35,1148.14 \"/>\n",
       "<path clip-path=\"url(#clip802)\" d=\"M727.131 1058.12 L503.523 1058.12 L950.738 1058.12 L727.131 1058.12 L727.131 1148.14 L727.131 1058.12  Z\" fill=\"#009af9\" fill-rule=\"evenodd\" fill-opacity=\"1\"/>\n",
       "<polyline clip-path=\"url(#clip802)\" style=\"stroke:#000000; stroke-linecap:round; stroke-linejoin:round; stroke-width:4; stroke-opacity:1; fill:none\" points=\"727.131,1058.12 503.523,1058.12 950.738,1058.12 727.131,1058.12 727.131,1148.14 727.131,1058.12 \"/>\n",
       "<circle clip-path=\"url(#clip802)\" cx=\"727.131\" cy=\"673.022\" r=\"14.4\" fill=\"#009af9\" fill-rule=\"evenodd\" fill-opacity=\"1\" stroke=\"#000000\" stroke-opacity=\"1\" stroke-width=\"3.2\"/>\n",
       "<polyline clip-path=\"url(#clip802)\" style=\"stroke:#009af9; stroke-linecap:round; stroke-linejoin:round; stroke-width:0; stroke-opacity:1; fill:none\" points=\"727.131,1445.72 503.523,1445.72 950.738,1445.72 727.131,1445.72 727.131,1418.84 \"/>\n",
       "<polyline clip-path=\"url(#clip802)\" style=\"stroke:#009af9; stroke-linecap:round; stroke-linejoin:round; stroke-width:0; stroke-opacity:1; fill:none\" points=\"1174.35,1418.84 1174.35,1328 279.916,1328 279.916,1418.84 1174.35,1418.84 1174.35,1328 \"/>\n",
       "<polyline clip-path=\"url(#clip802)\" style=\"stroke:#009af9; stroke-linecap:round; stroke-linejoin:round; stroke-width:0; stroke-opacity:1; fill:none\" points=\"1174.35,1148.14 279.916,1148.14 279.916,1328 1174.35,1328 1174.35,1148.14 727.131,1148.14 \"/>\n",
       "<polyline clip-path=\"url(#clip802)\" style=\"stroke:#009af9; stroke-linecap:round; stroke-linejoin:round; stroke-width:0; stroke-opacity:1; fill:none\" points=\"727.131,1058.12 503.523,1058.12 950.738,1058.12 727.131,1058.12 727.131,1148.14 \"/>\n",
       "<path clip-path=\"url(#clip802)\" d=\"M1845.17 578.302 L1621.56 578.302 L2068.77 578.302 L1845.17 578.302 L1845.17 436.838 L1845.17 578.302  Z\" fill=\"#e26f46\" fill-rule=\"evenodd\" fill-opacity=\"1\"/>\n",
       "<polyline clip-path=\"url(#clip802)\" style=\"stroke:#000000; stroke-linecap:round; stroke-linejoin:round; stroke-width:4; stroke-opacity:1; fill:none\" points=\"1845.17,578.302 1621.56,578.302 2068.77,578.302 1845.17,578.302 1845.17,436.838 1845.17,578.302 \"/>\n",
       "<path clip-path=\"url(#clip802)\" d=\"M2292.38 436.838 L2292.38 332.063 L1397.95 332.063 L1397.95 436.838 L2292.38 436.838 L2292.38 332.063 L2292.38 436.838  Z\" fill=\"#e26f46\" fill-rule=\"evenodd\" fill-opacity=\"1\"/>\n",
       "<polyline clip-path=\"url(#clip802)\" style=\"stroke:#000000; stroke-linecap:round; stroke-linejoin:round; stroke-width:4; stroke-opacity:1; fill:none\" points=\"2292.38,436.838 2292.38,332.063 1397.95,332.063 1397.95,436.838 2292.38,436.838 2292.38,332.063 2292.38,436.838 \"/>\n",
       "<path clip-path=\"url(#clip802)\" d=\"M2292.38 224.652 L1397.95 224.652 L1397.95 332.063 L2292.38 332.063 L2292.38 224.652 L1845.17 224.652 L2292.38 224.652  Z\" fill=\"#e26f46\" fill-rule=\"evenodd\" fill-opacity=\"1\"/>\n",
       "<polyline clip-path=\"url(#clip802)\" style=\"stroke:#000000; stroke-linecap:round; stroke-linejoin:round; stroke-width:4; stroke-opacity:1; fill:none\" points=\"2292.38,224.652 1397.95,224.652 1397.95,332.063 2292.38,332.063 2292.38,224.652 1845.17,224.652 2292.38,224.652 \"/>\n",
       "<path clip-path=\"url(#clip802)\" d=\"M1845.17 87.9763 L1621.56 87.9763 L2068.77 87.9763 L1845.17 87.9763 L1845.17 224.652 L1845.17 87.9763  Z\" fill=\"#e26f46\" fill-rule=\"evenodd\" fill-opacity=\"1\"/>\n",
       "<polyline clip-path=\"url(#clip802)\" style=\"stroke:#000000; stroke-linecap:round; stroke-linejoin:round; stroke-width:4; stroke-opacity:1; fill:none\" points=\"1845.17,87.9763 1621.56,87.9763 2068.77,87.9763 1845.17,87.9763 1845.17,224.652 1845.17,87.9763 \"/>\n",
       "<polyline clip-path=\"url(#clip802)\" style=\"stroke:#e26f46; stroke-linecap:round; stroke-linejoin:round; stroke-width:0; stroke-opacity:1; fill:none\" points=\"1845.17,578.302 1621.56,578.302 2068.77,578.302 1845.17,578.302 1845.17,436.838 \"/>\n",
       "<polyline clip-path=\"url(#clip802)\" style=\"stroke:#e26f46; stroke-linecap:round; stroke-linejoin:round; stroke-width:0; stroke-opacity:1; fill:none\" points=\"2292.38,436.838 2292.38,332.063 1397.95,332.063 1397.95,436.838 2292.38,436.838 2292.38,332.063 \"/>\n",
       "<polyline clip-path=\"url(#clip802)\" style=\"stroke:#e26f46; stroke-linecap:round; stroke-linejoin:round; stroke-width:0; stroke-opacity:1; fill:none\" points=\"2292.38,224.652 1397.95,224.652 1397.95,332.063 2292.38,332.063 2292.38,224.652 1845.17,224.652 \"/>\n",
       "<polyline clip-path=\"url(#clip802)\" style=\"stroke:#e26f46; stroke-linecap:round; stroke-linejoin:round; stroke-width:0; stroke-opacity:1; fill:none\" points=\"1845.17,87.9763 1621.56,87.9763 2068.77,87.9763 1845.17,87.9763 1845.17,224.652 \"/>\n",
       "<path clip-path=\"url(#clip800)\" d=\"M290.649 250.738 L586.123 250.738 L586.123 95.2176 L290.649 95.2176  Z\" fill=\"#ffffff\" fill-rule=\"evenodd\" fill-opacity=\"1\"/>\n",
       "<polyline clip-path=\"url(#clip800)\" style=\"stroke:#000000; stroke-linecap:round; stroke-linejoin:round; stroke-width:4; stroke-opacity:1; fill:none\" points=\"290.649,250.738 586.123,250.738 586.123,95.2176 290.649,95.2176 290.649,250.738 \"/>\n",
       "<path clip-path=\"url(#clip800)\" d=\"M314.352 167.794 L456.566 167.794 L456.566 126.322 L314.352 126.322 L314.352 167.794  Z\" fill=\"#009af9\" fill-rule=\"evenodd\" fill-opacity=\"1\"/>\n",
       "<polyline clip-path=\"url(#clip800)\" style=\"stroke:#000000; stroke-linecap:round; stroke-linejoin:round; stroke-width:4; stroke-opacity:1; fill:none\" points=\"314.352,167.794 456.566,167.794 456.566,126.322 314.352,126.322 314.352,167.794 \"/>\n",
       "<path clip-path=\"url(#clip800)\" d=\"M485.893 160.402 L502.213 160.402 L502.213 164.338 L480.268 164.338 L480.268 160.402 Q482.93 157.648 487.514 153.018 Q492.12 148.365 493.301 147.023 Q495.546 144.5 496.426 142.764 Q497.328 141.004 497.328 139.315 Q497.328 136.56 495.384 134.824 Q493.463 133.088 490.361 133.088 Q488.162 133.088 485.708 133.852 Q483.278 134.615 480.5 136.166 L480.5 131.444 Q483.324 130.31 485.778 129.731 Q488.231 129.153 490.268 129.153 Q495.639 129.153 498.833 131.838 Q502.027 134.523 502.027 139.014 Q502.027 141.143 501.217 143.065 Q500.43 144.963 498.324 147.555 Q497.745 148.227 494.643 151.444 Q491.541 154.639 485.893 160.402 Z\" fill=\"#000000\" fill-rule=\"nonzero\" fill-opacity=\"1\" /><path clip-path=\"url(#clip800)\" d=\"M506.819 129.778 L536.055 129.778 L536.055 133.713 L523.787 133.713 L523.787 164.338 L519.088 164.338 L519.088 133.713 L506.819 133.713 L506.819 129.778 Z\" fill=\"#000000\" fill-rule=\"nonzero\" fill-opacity=\"1\" /><path clip-path=\"url(#clip800)\" d=\"M561.935 138.412 L552.56 151.027 L562.421 164.338 L557.398 164.338 L549.851 154.152 L542.305 164.338 L537.282 164.338 L547.351 150.773 L538.138 138.412 L543.161 138.412 L550.036 147.648 L556.911 138.412 L561.935 138.412 Z\" fill=\"#000000\" fill-rule=\"nonzero\" fill-opacity=\"1\" /><path clip-path=\"url(#clip800)\" d=\"M314.352 219.634 L456.566 219.634 L456.566 178.162 L314.352 178.162 L314.352 219.634  Z\" fill=\"#e26f46\" fill-rule=\"evenodd\" fill-opacity=\"1\"/>\n",
       "<polyline clip-path=\"url(#clip800)\" style=\"stroke:#000000; stroke-linecap:round; stroke-linejoin:round; stroke-width:4; stroke-opacity:1; fill:none\" points=\"314.352,219.634 456.566,219.634 456.566,178.162 314.352,178.162 314.352,219.634 \"/>\n",
       "<path clip-path=\"url(#clip800)\" d=\"M484.551 212.289 L484.551 226.039 L480.268 226.039 L480.268 190.252 L484.551 190.252 L484.551 194.187 Q485.893 191.872 487.93 190.761 Q489.99 189.627 492.838 189.627 Q497.56 189.627 500.5 193.377 Q503.463 197.127 503.463 203.238 Q503.463 209.349 500.5 213.099 Q497.56 216.849 492.838 216.849 Q489.99 216.849 487.93 215.738 Q485.893 214.603 484.551 212.289 M499.041 203.238 Q499.041 198.539 497.097 195.877 Q495.176 193.192 491.796 193.192 Q488.416 193.192 486.472 195.877 Q484.551 198.539 484.551 203.238 Q484.551 207.937 486.472 210.622 Q488.416 213.284 491.796 213.284 Q495.176 213.284 497.097 210.622 Q499.041 207.937 499.041 203.238 Z\" fill=\"#000000\" fill-rule=\"nonzero\" fill-opacity=\"1\" /><path clip-path=\"url(#clip800)\" d=\"M505.916 181.618 L535.152 181.618 L535.152 185.553 L522.884 185.553 L522.884 216.178 L518.185 216.178 L518.185 185.553 L505.916 185.553 L505.916 181.618 Z\" fill=\"#000000\" fill-rule=\"nonzero\" fill-opacity=\"1\" /><path clip-path=\"url(#clip800)\" d=\"M561.032 190.252 L551.657 202.867 L561.518 216.178 L556.495 216.178 L548.949 205.992 L541.402 216.178 L536.379 216.178 L546.449 202.613 L537.236 190.252 L542.259 190.252 L549.134 199.488 L556.009 190.252 L561.032 190.252 Z\" fill=\"#000000\" fill-rule=\"nonzero\" fill-opacity=\"1\" /></svg>\n"
      ]
     },
     "metadata": {},
     "output_type": "display_data"
    }
   ],
   "source": [
    "\n",
    "# March 2024 for the rebuttal\n",
    "# CNR\n",
    "\n",
    "filenames_classic = Dict(\"sub$(lpad(i, 2, '0'))\" => \"/Users/icarooliveira/Documents/ASL_7T/analysis/s$(lpad(i, 2, '0'))/perf/rsub$(lpad(i,2,'0'))_Classic_reg_FAIR_6cm_meanPerf.nii.gz\" for i in 1:7);\n",
    "filenames_multix = Dict(\"sub$(lpad(i, 2, '0'))\" => \"/Users/icarooliveira/Documents/ASL_7T/analysis/s$(lpad(i, 2, '0'))/perf/rsub$(lpad(i,2,'0'))_Multix_FAIR_6cm_meanPerf.nii\" for i in 1:7);\n",
    "\n",
    "filenames_gm = Dict(\"sub$(lpad(i, 2, '0'))\" => \"/Users/icarooliveira/Documents/ASL_7T/analysis/s$(lpad(i, 2, '0'))/anat/GM_bin.nii.gz\" for i in 1:7);\n",
    "filenames_wm = Dict(\"sub$(lpad(i, 2, '0'))\" => \"/Users/icarooliveira/Documents/ASL_7T/analysis/s$(lpad(i, 2, '0'))/anat/WM_bin.nii.gz\" for i in 1:7);\n",
    "\n",
    "sublist = [\"sub01\" \"sub02\" \"sub03\" \"sub04\" \"sub05\" \"sub06\" \"sub07\"];\n",
    "\n",
    "cnr_nordic = zeros(7,2)\n",
    "\n",
    "for i=1:7\n",
    "    cnr_nordic[i,1] = cnr_calc(filenames_classic[sublist[i]], filenames_gm[sublist[i]], filenames_wm[sublist[i]]);\n",
    "    cnr_nordic[i,2] = cnr_calc(filenames_multix[sublist[i]], filenames_gm[sublist[i]], filenames_wm[sublist[i]]);\n",
    "end\n",
    "\n",
    "\n",
    "boxplot(cnr_nordic, ylabel=\"CNR\",label=[\"2Tx\" \"pTx\"])\n"
   ]
  },
  {
   "cell_type": "code",
   "execution_count": 11,
   "metadata": {},
   "outputs": [
    {
     "data": {
      "text/plain": [
       "7×2 Matrix{Float64}:\n",
       " 0.967635  1.24774\n",
       " 0.552118  1.06696\n",
       " 0.540568  1.15608\n",
       " 0.60563   1.01999\n",
       " 0.754791  1.12939\n",
       " 0.655286  1.29099\n",
       " 0.558726  1.18315"
      ]
     },
     "metadata": {},
     "output_type": "display_data"
    }
   ],
   "source": [
    "cnr_nordic"
   ]
  },
  {
   "cell_type": "code",
   "execution_count": null,
   "metadata": {},
   "outputs": [],
   "source": []
  }
 ],
 "metadata": {
  "kernelspec": {
   "display_name": "Julia 1.7.2",
   "language": "julia",
   "name": "julia-1.7"
  },
  "language_info": {
   "file_extension": ".jl",
   "mimetype": "application/julia",
   "name": "julia",
   "version": "1.7.2"
  },
  "orig_nbformat": 4
 },
 "nbformat": 4,
 "nbformat_minor": 2
}
